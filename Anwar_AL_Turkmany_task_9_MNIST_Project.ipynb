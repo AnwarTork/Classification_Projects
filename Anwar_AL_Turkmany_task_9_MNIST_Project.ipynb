{
  "nbformat": 4,
  "nbformat_minor": 0,
  "metadata": {
    "kernelspec": {
      "display_name": "Python 3",
      "language": "python",
      "name": "python3"
    },
    "language_info": {
      "codemirror_mode": {
        "name": "ipython",
        "version": 3
      },
      "file_extension": ".py",
      "mimetype": "text/x-python",
      "name": "python",
      "nbconvert_exporter": "python",
      "pygments_lexer": "ipython3",
      "version": "3.8.5"
    },
    "colab": {
      "provenance": [],
      "collapsed_sections": [
        "ujnFWm-RrTBx",
        "ds_FKkd8rTB1",
        "-jzw9z22rTB2",
        "oJRRCJzXrTB4",
        "hBHF2iJWrTB5",
        "Xm6cFW72rTB6",
        "7wdHyF8urTB6",
        "CRVGta9irTB9",
        "nJcwu7UfrTB-",
        "ymiEXPfprTB-",
        "7kqvQk1qrTB_"
      ]
    }
  },
  "cells": [
    {
      "cell_type": "markdown",
      "metadata": {
        "id": "vxs2h6RArTBa"
      },
      "source": [
        "# shAI Training 2022 | Level 1\n",
        "\n",
        "\n",
        "## Task#9 (MNIST Project part 2)\n",
        "\n",
        "### Classification\n",
        "\n",
        "- Before you start make sure you have latest Jupyter notebook version\n",
        "- <font color= red> If you have older version fetching the data might be different  </font>  \n"
      ]
    },
    {
      "cell_type": "code",
      "metadata": {
        "id": "dR41tAaxrTBi"
      },
      "source": [
        "import sklearn.datasets\n",
        "from sklearn.datasets import fetch_openml\n",
        "mnist =fetch_openml('mnist_784', as_frame=False)\n",
        "x, y = mnist[\"data\"], mnist[\"target\"]"
      ],
      "execution_count": 1,
      "outputs": []
    },
    {
      "cell_type": "markdown",
      "metadata": {
        "id": "cNzsxLvArTBk"
      },
      "source": [
        "#### peek at one digit"
      ]
    },
    {
      "cell_type": "code",
      "metadata": {
        "colab": {
          "base_uri": "https://localhost:8080/",
          "height": 406
        },
        "id": "DXg7k2bXrTBl",
        "outputId": "43d9a69d-d786-440c-8c64-eef07c69d4d0"
      },
      "source": [
        "import matplotlib\n",
        "import matplotlib.pyplot as plt\n",
        "some_digit = x[40000]\n",
        "some_digit_image = some_digit.reshape(28, 28)\n",
        "plt.imshow(some_digit_image, cmap = matplotlib.cm.binary,\n",
        "interpolation=\"nearest\")\n",
        "plt.axis(\"off\")\n",
        "plt.show()"
      ],
      "execution_count": 2,
      "outputs": [
        {
          "output_type": "display_data",
          "data": {
            "text/plain": [
              "<Figure size 640x480 with 1 Axes>"
            ],
            "image/png": "[encoded data removed]"
          },
          "metadata": {}
        }
      ]
    },
    {
      "cell_type": "code",
      "source": [
        "#الهدف: استيراد مكتبة NumPy، التي تُستخدم للتعامل مع المصفوفات والعمليات الحسابية عليها بكفاءة.\n",
        "\n",
        "# x_train, x_test, y_train, y_test = x[:60000], x[60000:], y[:60000], y[60000:]\n",
        "# الهدف: تقسيم البيانات إلى بيانات تدريب (Training Data) و بيانات اختبار (Testing Data).\n",
        "\n",
        "# إذا كانت x تمثل الصور (مثلاً من قاعدة بيانات مثل MNIST)، و y تمثل التصنيفات (Labels):\n",
        "\n",
        "# البيانات\tالشرح\n",
        "# x[:60000]\tأول 60,000 صورة → بيانات التدريب\n",
        "# x[60000:]\tباقي الصور (عادة 10,000 صورة) → بيانات الاختبار\n",
        "# y[:60000]\tالتصنيفات المقابلة لأول 60,000 صورة (Labels) → تصنيفات التدريب\n",
        "# y[60000:]\tالتصنيفات المقابلة لباقي الصور → تصنيفات الاختبا\n",
        "\n",
        "# لماذا 60000؟: لأن غالباً مجموعة بيانات MNIST تحتوي على 60,000 عينة تدريب و10,000 اختبار.\n",
        "# shuffle_index = np.random.permutation(60000)\n",
        "# الهدف: توليد ترتيب عشوائي (Shuffle) للأرقام من 0 إلى 59999.\n",
        "\n",
        "# لماذا؟: لضمان أن بيانات التدريب ليست مرتبة حسب الفئة (مثلاً: كل الأصفار معًا، ثم كل الواحدات...)، مما قد يجعل النموذج يتعلم بشكل غير صحيح.\n",
        "\n",
        "# x_train, y_train = x_train[shuffle_index], y_train[shuffle_index]\n",
        "# الهدف: تطبيق الترتيب العشوائي shuffle_index على كل من الصور (x_train) والتصنيفات (y_train) بنفس الطريقة، حتى تبقى العلاقة بين الصورة والتصنيف صحيحة.\n",
        "\n",
        "# النتيجة: بيانات تدريب عشوائية الترتيب، لكنها ما تزال صحيحة من حيث المطابقة بين الصور وتصنيفاتها."
      ],
      "metadata": {
        "id": "W9C-0HTu3pdV"
      },
      "execution_count": null,
      "outputs": []
    },
    {
      "cell_type": "code",
      "metadata": {
        "id": "DLJfdeOprTBn"
      },
      "source": [
        "import numpy as np\n",
        "x_train, x_test, y_train, y_test = x[:60000], x[60000:], y[:60000], y[60000:]\n",
        "shuffle_index = np.random.permutation(60000)\n",
        "x_train, y_train = x_train[shuffle_index], y_train[shuffle_index]"
      ],
      "execution_count": 3,
      "outputs": []
    },
    {
      "cell_type": "code",
      "source": [
        "# ما هو SGDClassifier؟\n",
        "# SGDClassifier هو مصنف في مكتبة scikit-learn يستخدم Stochastic Gradient Descent (SGD) — أي الانحدار التدرّجي العشوائي — لتدريب نماذج تعلم الآلة، خصوصًا للنماذج الخطية مثل:\n",
        "\n",
        "# الانحدار اللوجستي (Logistic Regression)\n",
        "\n",
        "# آلة الدعم الناقل (Linear SVM)\n",
        "\n",
        "# Perceptron\n",
        "\n",
        "# وغيرها من النماذج الخطية.\n",
        "\n",
        "# 🧠 معنى \"Stochastic Gradient Descent\"\n",
        "# هو خوارزمية تدريب تدريجية تقوم بتحديث الأوزان في كل مرة تمر فيها على عينة واحدة (أو دفعة صغيرة من العينات) بدلاً من استخدام كل البيانات دفعة واحدة.\n",
        "# هذا يجعل التدريب:\n",
        "\n",
        "# أسرع\n",
        "\n",
        "# أكثر كفاءة في التعامل مع كميات ضخمة من البيانات\n",
        "\n",
        "# ولكنه قد يكون أقل استقراراً (حل وسط مقبول في معظم الحالات)\n",
        "\n",
        "#  أهم المعاملات (Parameters)\n",
        "# المعامل\tوظيفته\n",
        "# loss\tنوع دالة الخسارة، مثل \"hinge\" لـ SVM، \"log_loss\" لـ الانحدار اللوجستي\n",
        "# max_iter\tالحد الأقصى لعدد التكرارات (Iterations)\n",
        "# tol\tحد التوقف المبكر (إذا لم تتحسن النتيجة بعد فترة، يتوقف التدريب)\n",
        "# penalty\tنوع الانتظام Regularization (\"l2\", \"l1\", أو \"elasticnet\")\n",
        "# learning_rate\tطريقة تحديد معدل التعلم (ثابت أو متناقص...)\n",
        "# eta0\tالقيمة الابتدائية لمعدل التعلم\n",
        "\n",
        "# متى تستخدم SGDClassifier؟\n",
        "# عندما يكون عندك عدد ضخم جداً من البيانات.\n",
        "\n",
        "# عندما تحتاج إلى تحديث النموذج بشكل تدريجي أو أثناء البث (online learning).\n",
        "\n",
        "# عندما تستخدم نماذج خطية أو ترغب في السرعة.\n",
        "# SGDClassifier لا يعمل بشكل جيد مع البيانات غير الخطية إلا إذا قمت بتحويلها (مثلًا باستخدام polynomial features أو kernel tricks)."
      ],
      "metadata": {
        "id": "P5Ph_WgU4isg"
      },
      "execution_count": null,
      "outputs": []
    },
    {
      "cell_type": "code",
      "metadata": {
        "id": "CNjuU8EvrTBo"
      },
      "source": [
        "from sklearn.linear_model import SGDClassifier\n",
        "sgd_clf = SGDClassifier(random_state=42)"
      ],
      "execution_count": 4,
      "outputs": []
    },
    {
      "cell_type": "markdown",
      "metadata": {
        "id": "BVw_S__2rTBp"
      },
      "source": [
        "#### Try SGDCClassifier with multiple calss"
      ]
    },
    {
      "cell_type": "code",
      "source": [
        "sgd_clf.fit(x_train, y_train)\n",
        "sgd_clf.predict([some_digit])"
      ],
      "metadata": {
        "colab": {
          "base_uri": "https://localhost:8080/"
        },
        "id": "LOEdxomkKVhW",
        "outputId": "8004f705-5fa9-48b0-8d01-5415eb6f758d"
      },
      "execution_count": 5,
      "outputs": [
        {
          "output_type": "execute_result",
          "data": {
            "text/plain": [
              "array(['7'], dtype='<U1')"
            ]
          },
          "metadata": {},
          "execution_count": 5
        }
      ]
    },
    {
      "cell_type": "code",
      "metadata": {
        "id": "sgnh6yNPrTBp",
        "outputId": "ad75ca58-a35f-4cfc-8601-2200fe005b9d"
      },
      "source": [
        "# CODE HERE\n"
      ],
      "execution_count": null,
      "outputs": [
        {
          "data": {
            "text/plain": [
              "array(['7'], dtype='<U1')"
            ]
          },
          "execution_count": 7,
          "metadata": {},
          "output_type": "execute_result"
        }
      ]
    },
    {
      "cell_type": "markdown",
      "metadata": {
        "id": "kE7UFx7OrTBr"
      },
      "source": [
        "#### Call decision_function() method to return score for each instance"
      ]
    },
    {
      "cell_type": "code",
      "source": [
        "# هذه الدالة تحسب درجة \"الثقة\" أو المسافة من كل فئة (من 0 إلى 9) بالنسبة للمدخل some_digit.\n",
        "\n",
        "# يتم تمرير [some_digit] كمصفوفة تحتوي على صورة واحدة (يجب أن تكون بشكل [1, 784]).\n",
        "\n",
        "# النتيجة تكون مصفوفة أبعادها (1, 10) — أي 10 قيم، كل واحدة تمثل نتيجة التصنيف تجاه أحد الأرقام من 0 إلى 9.\n",
        "\n",
        "#  تفسير القيم في الإخراج:\n",
        "# كل رقم في النتيجة يمثل درجة الثقة التي يعطيها المصنف لكل فئة. فمثلاً:\n",
        "\n",
        "# الرقم (الفئة)\tالقيمة (الدرجة)\n",
        "# 0\t-33407.00\n",
        "# 1\t-15734.51\n",
        "# 2\t-21426.06\n",
        "# 3\t-5488.04\n",
        "# 4\t-14629.72\n",
        "# 5\t-14581.07\n",
        "# 6\t-44680.90\n",
        "# 7\t6631.00 ✅\n",
        "# 8\t-9719.73\n",
        "# 9\t-6023.76\n",
        "\n",
        "# 🔸 أعلى درجة (6631.00) كانت عند الرقم 7، لذلك النموذج يتوقع أن some_digit هو الرقم 7."
      ],
      "metadata": {
        "id": "lqoQF8GP5jBg"
      },
      "execution_count": null,
      "outputs": []
    },
    {
      "cell_type": "code",
      "source": [
        "some_digit_scores = sgd_clf.decision_function([some_digit])"
      ],
      "metadata": {
        "id": "crdeU-uGKQyn"
      },
      "execution_count": 6,
      "outputs": []
    },
    {
      "cell_type": "code",
      "source": [
        "some_digit_scores"
      ],
      "metadata": {
        "colab": {
          "base_uri": "https://localhost:8080/"
        },
        "id": "WdH77qTFB4Vg",
        "outputId": "1bb4e3ee-3c51-4390-8180-5b36586febaf"
      },
      "execution_count": 7,
      "outputs": [
        {
          "output_type": "execute_result",
          "data": {
            "text/plain": [
              "array([[-33964.31456541, -16206.4997118 , -19418.88204154,\n",
              "         -5770.12205594, -19375.99890676, -11122.56975179,\n",
              "        -65295.10584055,   8402.0726981 ,  -7590.36646448,\n",
              "         -5162.72703442]])"
            ]
          },
          "metadata": {},
          "execution_count": 7
        }
      ]
    },
    {
      "cell_type": "code",
      "source": [
        "# الشكل المتوقع لـ some_digit؟\n",
        "# غالباً سيكون:\n",
        "\n",
        "# مصفوفة ذات بعدين إذا كانت الصورة لم تُفرد بعد: شكلها (28, 28)\n",
        "\n",
        "# أو مصفوفة ذات بعد واحد إذا تم فرد الصورة إلى شكل مسطح: شكلها (784,) لأن 28 × 28 = 784"
      ],
      "metadata": {
        "id": "JJ6MvFi55Uy2"
      },
      "execution_count": null,
      "outputs": []
    },
    {
      "cell_type": "code",
      "metadata": {
        "id": "2pzYdm9UrTBs",
        "outputId": "fcd6c186-977c-472d-fcc0-1cb902b2b663"
      },
      "source": [
        "# CODE HERE\n"
      ],
      "execution_count": null,
      "outputs": [
        {
          "data": {
            "text/plain": [
              "array([[-37296.18207427, -16492.49425068, -12828.50505655,\n",
              "         -6944.5348217 , -22748.82994809, -12191.13411648,\n",
              "        -41100.70076137,   8379.10384634, -11199.35355947,\n",
              "         -4072.62874998]])"
            ]
          },
          "execution_count": 8,
          "metadata": {},
          "output_type": "execute_result"
        }
      ]
    },
    {
      "cell_type": "markdown",
      "metadata": {
        "id": "qORDmctWrTBt"
      },
      "source": [
        "#### find highest score"
      ]
    },
    {
      "cell_type": "code",
      "source": [
        "from sklearn.model_selection import cross_val_score\n",
        "cross_val_score(sgd_clf, x_train, y_train, cv=3,scoring=\"accuracy\")"
      ],
      "metadata": {
        "colab": {
          "base_uri": "https://localhost:8080/"
        },
        "id": "ge0tl_yNKu9z",
        "outputId": "88e1cc53-018a-4bc9-efd2-81da8bca3d57"
      },
      "execution_count": 8,
      "outputs": [
        {
          "output_type": "execute_result",
          "data": {
            "text/plain": [
              "array([0.8704 , 0.87335, 0.8752 ])"
            ]
          },
          "metadata": {},
          "execution_count": 8
        }
      ]
    },
    {
      "cell_type": "code",
      "source": [
        "some_digit_scores.round(2)"
      ],
      "metadata": {
        "colab": {
          "base_uri": "https://localhost:8080/"
        },
        "id": "6bYm8-_EP31y",
        "outputId": "19f29ff4-ec2f-4b2c-b191-cbcc342b2288"
      },
      "execution_count": 9,
      "outputs": [
        {
          "output_type": "execute_result",
          "data": {
            "text/plain": [
              "array([[-33964.31, -16206.5 , -19418.88,  -5770.12, -19376.  , -11122.57,\n",
              "        -65295.11,   8402.07,  -7590.37,  -5162.73]])"
            ]
          },
          "metadata": {},
          "execution_count": 9
        }
      ]
    },
    {
      "cell_type": "code",
      "source": [
        "#هما ببساطة وسيلة للحصول على الرقم الذي تنبأ به النموذج بناءً على أعلى قيمة في decision_function.\n",
        "\n",
        "# some_digit_scores.argmax()\n",
        "# هذه الدالة من NumPy تبحث عن موقع (فهرس) أعلى قيمة في المصفوفة some_digit_scores.\n",
        "\n",
        "# النتيجة هي رقم الفئة (من 0 إلى 9) التي حصلت على أعلى درجة في decision_function."
      ],
      "metadata": {
        "id": "kkWjsE9I6Bg8"
      },
      "execution_count": null,
      "outputs": []
    },
    {
      "cell_type": "code",
      "source": [
        "class_id = some_digit_scores.argmax()\n",
        "class_id"
      ],
      "metadata": {
        "colab": {
          "base_uri": "https://localhost:8080/"
        },
        "id": "skBycxkQQKq2",
        "outputId": "48b3a9ea-5d88-4cf7-ab19-21ebb714445b"
      },
      "execution_count": 12,
      "outputs": [
        {
          "output_type": "execute_result",
          "data": {
            "text/plain": [
              "np.int64(7)"
            ]
          },
          "metadata": {},
          "execution_count": 12
        }
      ]
    },
    {
      "cell_type": "code",
      "metadata": {
        "id": "snNAridYrTBu",
        "outputId": "ea9581b9-df05-4d3f-ac56-e399b7a3b860"
      },
      "source": [
        "# CODE HERE\n"
      ],
      "execution_count": null,
      "outputs": [
        {
          "data": {
            "text/plain": [
              "7"
            ]
          },
          "execution_count": 9,
          "metadata": {},
          "output_type": "execute_result"
        }
      ]
    },
    {
      "cell_type": "markdown",
      "metadata": {
        "id": "FPz3QrbArTBu"
      },
      "source": [
        "#### list the target classes"
      ]
    },
    {
      "cell_type": "code",
      "source": [
        "sgd_clf.classes_"
      ],
      "metadata": {
        "colab": {
          "base_uri": "https://localhost:8080/"
        },
        "id": "SXlQhY0cQUd7",
        "outputId": "e5cabd41-7de5-4968-b0f2-bdd32e76dbdf"
      },
      "execution_count": 13,
      "outputs": [
        {
          "output_type": "execute_result",
          "data": {
            "text/plain": [
              "array(['0', '1', '2', '3', '4', '5', '6', '7', '8', '9'], dtype='<U1')"
            ]
          },
          "metadata": {},
          "execution_count": 13
        }
      ]
    },
    {
      "cell_type": "code",
      "metadata": {
        "id": "qrS46yuirTBv",
        "outputId": "c5485d63-ca87-4a27-b7b3-4592bc771405"
      },
      "source": [
        "# CODE HERE\n"
      ],
      "execution_count": null,
      "outputs": [
        {
          "data": {
            "text/plain": [
              "array(['0', '1', '2', '3', '4', '5', '6', '7', '8', '9'], dtype='<U1')"
            ]
          },
          "execution_count": 10,
          "metadata": {},
          "output_type": "execute_result"
        }
      ]
    },
    {
      "cell_type": "markdown",
      "metadata": {
        "id": "2TbllQderTBv"
      },
      "source": [
        "#### Find the the target class for 7"
      ]
    },
    {
      "cell_type": "code",
      "source": [
        "sgd_clf.classes_[class_id]"
      ],
      "metadata": {
        "colab": {
          "base_uri": "https://localhost:8080/",
          "height": 34
        },
        "id": "vL7bJEKtQgKO",
        "outputId": "cee5c8b7-21ad-488d-cbd9-f88174f67fdc"
      },
      "execution_count": 14,
      "outputs": [
        {
          "output_type": "execute_result",
          "data": {
            "text/plain": [
              "np.str_('7')"
            ],
            "application/vnd.google.colaboratory.intrinsic+json": {
              "type": "string"
            }
          },
          "metadata": {},
          "execution_count": 14
        }
      ]
    },
    {
      "cell_type": "code",
      "metadata": {
        "id": "lfAWQnVprTBw",
        "outputId": "6c6fd27a-692e-4f37-8f91-541c44b8f725"
      },
      "source": [
        "# CODE HERE\n",
        "# if you got stuck use GOOGLE\n"
      ],
      "execution_count": null,
      "outputs": [
        {
          "data": {
            "text/plain": [
              "'7'"
            ]
          },
          "execution_count": 13,
          "metadata": {},
          "output_type": "execute_result"
        }
      ]
    },
    {
      "cell_type": "markdown",
      "metadata": {
        "id": "ujnFWm-RrTBx"
      },
      "source": [
        "#### Force ScikitLearn to use one-versus-one"
      ]
    },
    {
      "cell_type": "code",
      "source": [
        "#  One-vs-One (OvO) مع SGDClassifier، وهي إحدى استراتيجيات التصنيف المتعدد (multiclass classification).\n",
        "\n",
        "#  أولاً: الفرق بين One-vs-One (OvO) و One-vs-Rest (OvR)\n",
        "# الاستراتيجية\tماذا تفعل؟\n",
        "# OvR (One-vs-Rest)\tتدريب مصنف واحد لكل فئة مقابل بقية الفئات\n",
        "# OvO (One-vs-One)\tتدريب مصنف لكل زوج من الفئات فقط (أي بين كل فئتين مختلفتين)\n",
        "\n",
        "# sgd_clf.decision_function_shape = \"ovo\"\n",
        "# هذا السطر (في الإصدارات القديمة من scikit-learn) يُغير طريقة حساب decision_function إلى استخدام OvO بدلاً من OvR.\n",
        "\n",
        "# ⚠️ ملاحظة: في النسخ الحديثة من scikit-learn هذه الخاصية قد لا تُستخدم مباشرة بهذه الطريقة؛ وإنما يُستخدم الكائن OneVsOneClassifier نفسه كما في السطر التالي.\n",
        "\n",
        "# = sgd_clf.decision_function([some_digit])\n",
        "# يقوم بحساب الدرجات بين كل زوج من الفئات.\n",
        "\n",
        "# مثلاً: الدرجة بين 0 و 1، 0 و 2، ...، 8 و 9.\n",
        "\n",
        "# يعيد مصفوفة تحتوي على هذه الدرجات\n",
        "\n",
        "#  some_digit_scores_ovo.round(2)\n",
        "# يقرب القيم في المصفوفة إلى رقمين عشريين لتسهيل القراءة.\n",
        "\n",
        "# ovo_clf = OneVsOneClassifier(SGDClassifier(random_state=42))\n",
        "# ينشئ مصنف OneVsOneClassifier ويغلف داخله مصنفًا أساسيًا SGDClassifier.\n",
        "\n",
        "# هذا يعني: سيتم تدريب مصنف واحد لكل زوج ممكن من الفئات.\n",
        "\n",
        "#  ovo_clf.fit(x_train[:2000], y_train[:2000])\n",
        "# يقوم بتدريب النموذج على أول 2000 عينة من بيانات التدريب فقط.\n",
        "\n",
        "# OvO ستقوم بتوليد مصنفات فرعية لكل زوج من الفئات الموجودة في تلك الـ2000 عينة.\n",
        "\n",
        "# len(ovo_clf.estimators_)\n",
        "# هذه ترجع عدد المصنفات الفرعية التي تم تدريبها داخل OneVsOneClassifier.\n",
        "\n",
        "# 📊 السؤال: كم عددهم ولماذا؟\n",
        "# لنفترض أن هناك k فئات مختلفة في البيانات (مثلاً من 0 إلى 9 ⇒ k = 10)، فإن عدد المصنفات OvO هو:\n",
        "\n",
        "# عدد المصنفات = 𝑘(𝑘−1)/2\n",
        "\n",
        "\n",
        "# ovo_clf.fit(x_train[:2000], y_train[:2000])\n",
        "# فإذا كانت هذه الـ2000 عينة تحتوي فقط على (مثلاً) 7 فئات، فعدد المصنفات سيكون:\n",
        "# 7×6 / 2 =21\n"
      ],
      "metadata": {
        "id": "f3R0fyVZ6uVy"
      },
      "execution_count": null,
      "outputs": []
    },
    {
      "cell_type": "code",
      "metadata": {
        "id": "6zN2QYJ0rTBx"
      },
      "source": [
        "from sklearn.multiclass import OneVsOneClassifier"
      ],
      "execution_count": 15,
      "outputs": []
    },
    {
      "cell_type": "code",
      "source": [
        "sgd_clf.decision_function_shape = \"ovo\"\n",
        "some_digit_scores_ovo = sgd_clf.decision_function([some_digit])\n",
        "some_digit_scores_ovo.round(2)"
      ],
      "metadata": {
        "colab": {
          "base_uri": "https://localhost:8080/"
        },
        "id": "edq7ZRKhQt_r",
        "outputId": "d384b0c6-1ea0-4359-fd12-e98c241e4652"
      },
      "execution_count": 16,
      "outputs": [
        {
          "output_type": "execute_result",
          "data": {
            "text/plain": [
              "array([[-33964.31, -16206.5 , -19418.88,  -5770.12, -19376.  , -11122.57,\n",
              "        -65295.11,   8402.07,  -7590.37,  -5162.73]])"
            ]
          },
          "metadata": {},
          "execution_count": 16
        }
      ]
    },
    {
      "cell_type": "code",
      "source": [
        "ovo_clf = OneVsOneClassifier(SGDClassifier(random_state=42))\n",
        "ovo_clf.fit(x_train[:2000], y_train[:2000])"
      ],
      "metadata": {
        "id": "ZIcOPckxRiOd",
        "outputId": "1138e32e-e949-4318-d549-508063a07d34",
        "colab": {
          "base_uri": "https://localhost:8080/",
          "height": 166
        }
      },
      "execution_count": 17,
      "outputs": [
        {
          "output_type": "execute_result",
          "data": {
            "text/plain": [
              "OneVsOneClassifier(estimator=SGDClassifier(random_state=42))"
            ],
            "text/html": [
              "<style>#sk-container-id-1 {\n",
              "  /* Definition of color scheme common for light and dark mode */\n",
              "  --sklearn-color-text: #000;\n",
              "  --sklearn-color-text-muted: #666;\n",
              "  --sklearn-color-line: gray;\n",
              "  /* Definition of color scheme for unfitted estimators */\n",
              "  --sklearn-color-unfitted-level-0: #fff5e6;\n",
              "  --sklearn-color-unfitted-level-1: #f6e4d2;\n",
              "  --sklearn-color-unfitted-level-2: #ffe0b3;\n",
              "  --sklearn-color-unfitted-level-3: chocolate;\n",
              "  /* Definition of color scheme for fitted estimators */\n",
              "  --sklearn-color-fitted-level-0: #f0f8ff;\n",
              "  --sklearn-color-fitted-level-1: #d4ebff;\n",
              "  --sklearn-color-fitted-level-2: #b3dbfd;\n",
              "  --sklearn-color-fitted-level-3: cornflowerblue;\n",
              "\n",
              "  /* Specific color for light theme */\n",
              "  --sklearn-color-text-on-default-background: var(--sg-text-color, var(--theme-code-foreground, var(--jp-content-font-color1, black)));\n",
              "  --sklearn-color-background: var(--sg-background-color, var(--theme-background, var(--jp-layout-color0, white)));\n",
              "  --sklearn-color-border-box: var(--sg-text-color, var(--theme-code-foreground, var(--jp-content-font-color1, black)));\n",
              "  --sklearn-color-icon: #696969;\n",
              "\n",
              "  @media (prefers-color-scheme: dark) {\n",
              "    /* Redefinition of color scheme for dark theme */\n",
              "    --sklearn-color-text-on-default-background: var(--sg-text-color, var(--theme-code-foreground, var(--jp-content-font-color1, white)));\n",
              "    --sklearn-color-background: var(--sg-background-color, var(--theme-background, var(--jp-layout-color0, #111)));\n",
              "    --sklearn-color-border-box: var(--sg-text-color, var(--theme-code-foreground, var(--jp-content-font-color1, white)));\n",
              "    --sklearn-color-icon: #878787;\n",
              "  }\n",
              "}\n",
              "\n",
              "#sk-container-id-1 {\n",
              "  color: var(--sklearn-color-text);\n",
              "}\n",
              "\n",
              "#sk-container-id-1 pre {\n",
              "  padding: 0;\n",
              "}\n",
              "\n",
              "#sk-container-id-1 input.sk-hidden--visually {\n",
              "  border: 0;\n",
              "  clip: rect(1px 1px 1px 1px);\n",
              "  clip: rect(1px, 1px, 1px, 1px);\n",
              "  height: 1px;\n",
              "  margin: -1px;\n",
              "  overflow: hidden;\n",
              "  padding: 0;\n",
              "  position: absolute;\n",
              "  width: 1px;\n",
              "}\n",
              "\n",
              "#sk-container-id-1 div.sk-dashed-wrapped {\n",
              "  border: 1px dashed var(--sklearn-color-line);\n",
              "  margin: 0 0.4em 0.5em 0.4em;\n",
              "  box-sizing: border-box;\n",
              "  padding-bottom: 0.4em;\n",
              "  background-color: var(--sklearn-color-background);\n",
              "}\n",
              "\n",
              "#sk-container-id-1 div.sk-container {\n",
              "  /* jupyter's `normalize.less` sets `[hidden] { display: none; }`\n",
              "     but bootstrap.min.css set `[hidden] { display: none !important; }`\n",
              "     so we also need the `!important` here to be able to override the\n",
              "     default hidden behavior on the sphinx rendered scikit-learn.org.\n",
              "     See: https://github.com/scikit-learn/scikit-learn/issues/21755 */\n",
              "  display: inline-block !important;\n",
              "  position: relative;\n",
              "}\n",
              "\n",
              "#sk-container-id-1 div.sk-text-repr-fallback {\n",
              "  display: none;\n",
              "}\n",
              "\n",
              "div.sk-parallel-item,\n",
              "div.sk-serial,\n",
              "div.sk-item {\n",
              "  /* draw centered vertical line to link estimators */\n",
              "  background-image: linear-gradient(var(--sklearn-color-text-on-default-background), var(--sklearn-color-text-on-default-background));\n",
              "  background-size: 2px 100%;\n",
              "  background-repeat: no-repeat;\n",
              "  background-position: center center;\n",
              "}\n",
              "\n",
              "/* Parallel-specific style estimator block */\n",
              "\n",
              "#sk-container-id-1 div.sk-parallel-item::after {\n",
              "  content: \"\";\n",
              "  width: 100%;\n",
              "  border-bottom: 2px solid var(--sklearn-color-text-on-default-background);\n",
              "  flex-grow: 1;\n",
              "}\n",
              "\n",
              "#sk-container-id-1 div.sk-parallel {\n",
              "  display: flex;\n",
              "  align-items: stretch;\n",
              "  justify-content: center;\n",
              "  background-color: var(--sklearn-color-background);\n",
              "  position: relative;\n",
              "}\n",
              "\n",
              "#sk-container-id-1 div.sk-parallel-item {\n",
              "  display: flex;\n",
              "  flex-direction: column;\n",
              "}\n",
              "\n",
              "#sk-container-id-1 div.sk-parallel-item:first-child::after {\n",
              "  align-self: flex-end;\n",
              "  width: 50%;\n",
              "}\n",
              "\n",
              "#sk-container-id-1 div.sk-parallel-item:last-child::after {\n",
              "  align-self: flex-start;\n",
              "  width: 50%;\n",
              "}\n",
              "\n",
              "#sk-container-id-1 div.sk-parallel-item:only-child::after {\n",
              "  width: 0;\n",
              "}\n",
              "\n",
              "/* Serial-specific style estimator block */\n",
              "\n",
              "#sk-container-id-1 div.sk-serial {\n",
              "  display: flex;\n",
              "  flex-direction: column;\n",
              "  align-items: center;\n",
              "  background-color: var(--sklearn-color-background);\n",
              "  padding-right: 1em;\n",
              "  padding-left: 1em;\n",
              "}\n",
              "\n",
              "\n",
              "/* Toggleable style: style used for estimator/Pipeline/ColumnTransformer box that is\n",
              "clickable and can be expanded/collapsed.\n",
              "- Pipeline and ColumnTransformer use this feature and define the default style\n",
              "- Estimators will overwrite some part of the style using the `sk-estimator` class\n",
              "*/\n",
              "\n",
              "/* Pipeline and ColumnTransformer style (default) */\n",
              "\n",
              "#sk-container-id-1 div.sk-toggleable {\n",
              "  /* Default theme specific background. It is overwritten whether we have a\n",
              "  specific estimator or a Pipeline/ColumnTransformer */\n",
              "  background-color: var(--sklearn-color-background);\n",
              "}\n",
              "\n",
              "/* Toggleable label */\n",
              "#sk-container-id-1 label.sk-toggleable__label {\n",
              "  cursor: pointer;\n",
              "  display: flex;\n",
              "  width: 100%;\n",
              "  margin-bottom: 0;\n",
              "  padding: 0.5em;\n",
              "  box-sizing: border-box;\n",
              "  text-align: center;\n",
              "  align-items: start;\n",
              "  justify-content: space-between;\n",
              "  gap: 0.5em;\n",
              "}\n",
              "\n",
              "#sk-container-id-1 label.sk-toggleable__label .caption {\n",
              "  font-size: 0.6rem;\n",
              "  font-weight: lighter;\n",
              "  color: var(--sklearn-color-text-muted);\n",
              "}\n",
              "\n",
              "#sk-container-id-1 label.sk-toggleable__label-arrow:before {\n",
              "  /* Arrow on the left of the label */\n",
              "  content: \"▸\";\n",
              "  float: left;\n",
              "  margin-right: 0.25em;\n",
              "  color: var(--sklearn-color-icon);\n",
              "}\n",
              "\n",
              "#sk-container-id-1 label.sk-toggleable__label-arrow:hover:before {\n",
              "  color: var(--sklearn-color-text);\n",
              "}\n",
              "\n",
              "/* Toggleable content - dropdown */\n",
              "\n",
              "#sk-container-id-1 div.sk-toggleable__content {\n",
              "  max-height: 0;\n",
              "  max-width: 0;\n",
              "  overflow: hidden;\n",
              "  text-align: left;\n",
              "  /* unfitted */\n",
              "  background-color: var(--sklearn-color-unfitted-level-0);\n",
              "}\n",
              "\n",
              "#sk-container-id-1 div.sk-toggleable__content.fitted {\n",
              "  /* fitted */\n",
              "  background-color: var(--sklearn-color-fitted-level-0);\n",
              "}\n",
              "\n",
              "#sk-container-id-1 div.sk-toggleable__content pre {\n",
              "  margin: 0.2em;\n",
              "  border-radius: 0.25em;\n",
              "  color: var(--sklearn-color-text);\n",
              "  /* unfitted */\n",
              "  background-color: var(--sklearn-color-unfitted-level-0);\n",
              "}\n",
              "\n",
              "#sk-container-id-1 div.sk-toggleable__content.fitted pre {\n",
              "  /* unfitted */\n",
              "  background-color: var(--sklearn-color-fitted-level-0);\n",
              "}\n",
              "\n",
              "#sk-container-id-1 input.sk-toggleable__control:checked~div.sk-toggleable__content {\n",
              "  /* Expand drop-down */\n",
              "  max-height: 200px;\n",
              "  max-width: 100%;\n",
              "  overflow: auto;\n",
              "}\n",
              "\n",
              "#sk-container-id-1 input.sk-toggleable__control:checked~label.sk-toggleable__label-arrow:before {\n",
              "  content: \"▾\";\n",
              "}\n",
              "\n",
              "/* Pipeline/ColumnTransformer-specific style */\n",
              "\n",
              "#sk-container-id-1 div.sk-label input.sk-toggleable__control:checked~label.sk-toggleable__label {\n",
              "  color: var(--sklearn-color-text);\n",
              "  background-color: var(--sklearn-color-unfitted-level-2);\n",
              "}\n",
              "\n",
              "#sk-container-id-1 div.sk-label.fitted input.sk-toggleable__control:checked~label.sk-toggleable__label {\n",
              "  background-color: var(--sklearn-color-fitted-level-2);\n",
              "}\n",
              "\n",
              "/* Estimator-specific style */\n",
              "\n",
              "/* Colorize estimator box */\n",
              "#sk-container-id-1 div.sk-estimator input.sk-toggleable__control:checked~label.sk-toggleable__label {\n",
              "  /* unfitted */\n",
              "  background-color: var(--sklearn-color-unfitted-level-2);\n",
              "}\n",
              "\n",
              "#sk-container-id-1 div.sk-estimator.fitted input.sk-toggleable__control:checked~label.sk-toggleable__label {\n",
              "  /* fitted */\n",
              "  background-color: var(--sklearn-color-fitted-level-2);\n",
              "}\n",
              "\n",
              "#sk-container-id-1 div.sk-label label.sk-toggleable__label,\n",
              "#sk-container-id-1 div.sk-label label {\n",
              "  /* The background is the default theme color */\n",
              "  color: var(--sklearn-color-text-on-default-background);\n",
              "}\n",
              "\n",
              "/* On hover, darken the color of the background */\n",
              "#sk-container-id-1 div.sk-label:hover label.sk-toggleable__label {\n",
              "  color: var(--sklearn-color-text);\n",
              "  background-color: var(--sklearn-color-unfitted-level-2);\n",
              "}\n",
              "\n",
              "/* Label box, darken color on hover, fitted */\n",
              "#sk-container-id-1 div.sk-label.fitted:hover label.sk-toggleable__label.fitted {\n",
              "  color: var(--sklearn-color-text);\n",
              "  background-color: var(--sklearn-color-fitted-level-2);\n",
              "}\n",
              "\n",
              "/* Estimator label */\n",
              "\n",
              "#sk-container-id-1 div.sk-label label {\n",
              "  font-family: monospace;\n",
              "  font-weight: bold;\n",
              "  display: inline-block;\n",
              "  line-height: 1.2em;\n",
              "}\n",
              "\n",
              "#sk-container-id-1 div.sk-label-container {\n",
              "  text-align: center;\n",
              "}\n",
              "\n",
              "/* Estimator-specific */\n",
              "#sk-container-id-1 div.sk-estimator {\n",
              "  font-family: monospace;\n",
              "  border: 1px dotted var(--sklearn-color-border-box);\n",
              "  border-radius: 0.25em;\n",
              "  box-sizing: border-box;\n",
              "  margin-bottom: 0.5em;\n",
              "  /* unfitted */\n",
              "  background-color: var(--sklearn-color-unfitted-level-0);\n",
              "}\n",
              "\n",
              "#sk-container-id-1 div.sk-estimator.fitted {\n",
              "  /* fitted */\n",
              "  background-color: var(--sklearn-color-fitted-level-0);\n",
              "}\n",
              "\n",
              "/* on hover */\n",
              "#sk-container-id-1 div.sk-estimator:hover {\n",
              "  /* unfitted */\n",
              "  background-color: var(--sklearn-color-unfitted-level-2);\n",
              "}\n",
              "\n",
              "#sk-container-id-1 div.sk-estimator.fitted:hover {\n",
              "  /* fitted */\n",
              "  background-color: var(--sklearn-color-fitted-level-2);\n",
              "}\n",
              "\n",
              "/* Specification for estimator info (e.g. \"i\" and \"?\") */\n",
              "\n",
              "/* Common style for \"i\" and \"?\" */\n",
              "\n",
              ".sk-estimator-doc-link,\n",
              "a:link.sk-estimator-doc-link,\n",
              "a:visited.sk-estimator-doc-link {\n",
              "  float: right;\n",
              "  font-size: smaller;\n",
              "  line-height: 1em;\n",
              "  font-family: monospace;\n",
              "  background-color: var(--sklearn-color-background);\n",
              "  border-radius: 1em;\n",
              "  height: 1em;\n",
              "  width: 1em;\n",
              "  text-decoration: none !important;\n",
              "  margin-left: 0.5em;\n",
              "  text-align: center;\n",
              "  /* unfitted */\n",
              "  border: var(--sklearn-color-unfitted-level-1) 1pt solid;\n",
              "  color: var(--sklearn-color-unfitted-level-1);\n",
              "}\n",
              "\n",
              ".sk-estimator-doc-link.fitted,\n",
              "a:link.sk-estimator-doc-link.fitted,\n",
              "a:visited.sk-estimator-doc-link.fitted {\n",
              "  /* fitted */\n",
              "  border: var(--sklearn-color-fitted-level-1) 1pt solid;\n",
              "  color: var(--sklearn-color-fitted-level-1);\n",
              "}\n",
              "\n",
              "/* On hover */\n",
              "div.sk-estimator:hover .sk-estimator-doc-link:hover,\n",
              ".sk-estimator-doc-link:hover,\n",
              "div.sk-label-container:hover .sk-estimator-doc-link:hover,\n",
              ".sk-estimator-doc-link:hover {\n",
              "  /* unfitted */\n",
              "  background-color: var(--sklearn-color-unfitted-level-3);\n",
              "  color: var(--sklearn-color-background);\n",
              "  text-decoration: none;\n",
              "}\n",
              "\n",
              "div.sk-estimator.fitted:hover .sk-estimator-doc-link.fitted:hover,\n",
              ".sk-estimator-doc-link.fitted:hover,\n",
              "div.sk-label-container:hover .sk-estimator-doc-link.fitted:hover,\n",
              ".sk-estimator-doc-link.fitted:hover {\n",
              "  /* fitted */\n",
              "  background-color: var(--sklearn-color-fitted-level-3);\n",
              "  color: var(--sklearn-color-background);\n",
              "  text-decoration: none;\n",
              "}\n",
              "\n",
              "/* Span, style for the box shown on hovering the info icon */\n",
              ".sk-estimator-doc-link span {\n",
              "  display: none;\n",
              "  z-index: 9999;\n",
              "  position: relative;\n",
              "  font-weight: normal;\n",
              "  right: .2ex;\n",
              "  padding: .5ex;\n",
              "  margin: .5ex;\n",
              "  width: min-content;\n",
              "  min-width: 20ex;\n",
              "  max-width: 50ex;\n",
              "  color: var(--sklearn-color-text);\n",
              "  box-shadow: 2pt 2pt 4pt #999;\n",
              "  /* unfitted */\n",
              "  background: var(--sklearn-color-unfitted-level-0);\n",
              "  border: .5pt solid var(--sklearn-color-unfitted-level-3);\n",
              "}\n",
              "\n",
              ".sk-estimator-doc-link.fitted span {\n",
              "  /* fitted */\n",
              "  background: var(--sklearn-color-fitted-level-0);\n",
              "  border: var(--sklearn-color-fitted-level-3);\n",
              "}\n",
              "\n",
              ".sk-estimator-doc-link:hover span {\n",
              "  display: block;\n",
              "}\n",
              "\n",
              "/* \"?\"-specific style due to the `<a>` HTML tag */\n",
              "\n",
              "#sk-container-id-1 a.estimator_doc_link {\n",
              "  float: right;\n",
              "  font-size: 1rem;\n",
              "  line-height: 1em;\n",
              "  font-family: monospace;\n",
              "  background-color: var(--sklearn-color-background);\n",
              "  border-radius: 1rem;\n",
              "  height: 1rem;\n",
              "  width: 1rem;\n",
              "  text-decoration: none;\n",
              "  /* unfitted */\n",
              "  color: var(--sklearn-color-unfitted-level-1);\n",
              "  border: var(--sklearn-color-unfitted-level-1) 1pt solid;\n",
              "}\n",
              "\n",
              "#sk-container-id-1 a.estimator_doc_link.fitted {\n",
              "  /* fitted */\n",
              "  border: var(--sklearn-color-fitted-level-1) 1pt solid;\n",
              "  color: var(--sklearn-color-fitted-level-1);\n",
              "}\n",
              "\n",
              "/* On hover */\n",
              "#sk-container-id-1 a.estimator_doc_link:hover {\n",
              "  /* unfitted */\n",
              "  background-color: var(--sklearn-color-unfitted-level-3);\n",
              "  color: var(--sklearn-color-background);\n",
              "  text-decoration: none;\n",
              "}\n",
              "\n",
              "#sk-container-id-1 a.estimator_doc_link.fitted:hover {\n",
              "  /* fitted */\n",
              "  background-color: var(--sklearn-color-fitted-level-3);\n",
              "}\n",
              "</style><div id=\"sk-container-id-1\" class=\"sk-top-container\"><div class=\"sk-text-repr-fallback\"><pre>OneVsOneClassifier(estimator=SGDClassifier(random_state=42))</pre><b>In a Jupyter environment, please rerun this cell to show the HTML representation or trust the notebook. <br />On GitHub, the HTML representation is unable to render, please try loading this page with nbviewer.org.</b></div><div class=\"sk-container\" hidden><div class=\"sk-item sk-dashed-wrapped\"><div class=\"sk-label-container\"><div class=\"sk-label fitted sk-toggleable\"><input class=\"sk-toggleable__control sk-hidden--visually\" id=\"sk-estimator-id-1\" type=\"checkbox\" ><label for=\"sk-estimator-id-1\" class=\"sk-toggleable__label fitted sk-toggleable__label-arrow\"><div><div>OneVsOneClassifier</div></div><div><a class=\"sk-estimator-doc-link fitted\" rel=\"noreferrer\" target=\"_blank\" href=\"https://scikit-learn.org/1.6/modules/generated/sklearn.multiclass.OneVsOneClassifier.html\">?<span>Documentation for OneVsOneClassifier</span></a><span class=\"sk-estimator-doc-link fitted\">i<span>Fitted</span></span></div></label><div class=\"sk-toggleable__content fitted\"><pre>OneVsOneClassifier(estimator=SGDClassifier(random_state=42))</pre></div> </div></div><div class=\"sk-parallel\"><div class=\"sk-parallel-item\"><div class=\"sk-item\"><div class=\"sk-label-container\"><div class=\"sk-label fitted sk-toggleable\"><input class=\"sk-toggleable__control sk-hidden--visually\" id=\"sk-estimator-id-2\" type=\"checkbox\" ><label for=\"sk-estimator-id-2\" class=\"sk-toggleable__label fitted sk-toggleable__label-arrow\"><div><div>estimator: SGDClassifier</div></div></label><div class=\"sk-toggleable__content fitted\"><pre>SGDClassifier(random_state=42)</pre></div> </div></div><div class=\"sk-serial\"><div class=\"sk-item\"><div class=\"sk-estimator fitted sk-toggleable\"><input class=\"sk-toggleable__control sk-hidden--visually\" id=\"sk-estimator-id-3\" type=\"checkbox\" ><label for=\"sk-estimator-id-3\" class=\"sk-toggleable__label fitted sk-toggleable__label-arrow\"><div><div>SGDClassifier</div></div><div><a class=\"sk-estimator-doc-link fitted\" rel=\"noreferrer\" target=\"_blank\" href=\"https://scikit-learn.org/1.6/modules/generated/sklearn.linear_model.SGDClassifier.html\">?<span>Documentation for SGDClassifier</span></a></div></label><div class=\"sk-toggleable__content fitted\"><pre>SGDClassifier(random_state=42)</pre></div> </div></div></div></div></div></div></div></div></div>"
            ]
          },
          "metadata": {},
          "execution_count": 17
        }
      ]
    },
    {
      "cell_type": "code",
      "source": [
        "ovo_clf.predict([some_digit])"
      ],
      "metadata": {
        "id": "_rDulacrR7Wg",
        "outputId": "c756593a-c535-4f04-e866-8e69a5884948",
        "colab": {
          "base_uri": "https://localhost:8080/"
        }
      },
      "execution_count": 18,
      "outputs": [
        {
          "output_type": "execute_result",
          "data": {
            "text/plain": [
              "array(['7'], dtype=object)"
            ]
          },
          "metadata": {},
          "execution_count": 18
        }
      ]
    },
    {
      "cell_type": "code",
      "metadata": {
        "id": "iI43bCZnrTBx",
        "outputId": "047d35fb-7f6f-4328-eadc-098d37beede5"
      },
      "source": [
        "# CODE HERE\n"
      ],
      "execution_count": null,
      "outputs": [
        {
          "data": {
            "text/plain": [
              "array(['7'], dtype=object)"
            ]
          },
          "execution_count": 15,
          "metadata": {},
          "output_type": "execute_result"
        }
      ]
    },
    {
      "cell_type": "markdown",
      "metadata": {
        "id": "kZcNpAenrTBy"
      },
      "source": [
        "#### find how many classifier OvO used"
      ]
    },
    {
      "cell_type": "code",
      "source": [
        "len(ovo_clf.estimators_)"
      ],
      "metadata": {
        "id": "4qlxdi_CR-1u",
        "outputId": "568bca82-3d0f-4be8-dd33-8a04131fa316",
        "colab": {
          "base_uri": "https://localhost:8080/"
        }
      },
      "execution_count": 19,
      "outputs": [
        {
          "output_type": "execute_result",
          "data": {
            "text/plain": [
              "45"
            ]
          },
          "metadata": {},
          "execution_count": 19
        }
      ]
    },
    {
      "cell_type": "code",
      "metadata": {
        "id": "Qj-h_2kOrTBy",
        "outputId": "758a7a01-d4ab-420c-ff37-1ebeebc50cc9"
      },
      "source": [
        "# CODE HERE\n"
      ],
      "execution_count": null,
      "outputs": [
        {
          "data": {
            "text/plain": [
              "45"
            ]
          },
          "execution_count": 16,
          "metadata": {},
          "output_type": "execute_result"
        }
      ]
    },
    {
      "cell_type": "markdown",
      "metadata": {
        "id": "jY_URTfErTBz"
      },
      "source": [
        "#### Train  RandomForestClassifier"
      ]
    },
    {
      "cell_type": "code",
      "metadata": {
        "id": "ij6mGZvWrTBz"
      },
      "source": [
        "from sklearn.ensemble import RandomForestClassifier\n",
        "forest_clf = RandomForestClassifier(random_state=42)"
      ],
      "execution_count": 20,
      "outputs": []
    },
    {
      "cell_type": "code",
      "source": [
        "forest_clf.fit(x_train, y_train)\n",
        "forest_clf.predict([some_digit])"
      ],
      "metadata": {
        "id": "3pHCotm5SpCj",
        "outputId": "90da1c9a-1346-4cbd-db9b-24300285b42b",
        "colab": {
          "base_uri": "https://localhost:8080/"
        }
      },
      "execution_count": 21,
      "outputs": [
        {
          "output_type": "execute_result",
          "data": {
            "text/plain": [
              "array(['7'], dtype=object)"
            ]
          },
          "metadata": {},
          "execution_count": 21
        }
      ]
    },
    {
      "cell_type": "code",
      "metadata": {
        "id": "mLvACTVkrTB0",
        "outputId": "8c16b8d2-f6be-4f62-ce0b-a32b66287444"
      },
      "source": [
        "# CODE HERE\n"
      ],
      "execution_count": null,
      "outputs": [
        {
          "data": {
            "text/plain": [
              "array(['7'], dtype=object)"
            ]
          },
          "execution_count": 20,
          "metadata": {},
          "output_type": "execute_result"
        }
      ]
    },
    {
      "cell_type": "markdown",
      "metadata": {
        "id": "RAF55oQtrTB1"
      },
      "source": [
        "#### call predict_proba() to get the list of probabilities that the classifier assigned to each instance for each class"
      ]
    },
    {
      "cell_type": "code",
      "metadata": {
        "id": "Irh9e-QbrTB1",
        "colab": {
          "base_uri": "https://localhost:8080/"
        },
        "outputId": "a8257a61-56e3-4138-ce92-95e0bc0f553b"
      },
      "source": [
        "forest_clf.predict_proba([some_digit])"
      ],
      "execution_count": 22,
      "outputs": [
        {
          "output_type": "execute_result",
          "data": {
            "text/plain": [
              "array([[0.  , 0.  , 0.  , 0.  , 0.  , 0.  , 0.  , 0.99, 0.  , 0.01]])"
            ]
          },
          "metadata": {},
          "execution_count": 22
        }
      ]
    },
    {
      "cell_type": "markdown",
      "metadata": {
        "id": "ds_FKkd8rTB1"
      },
      "source": [
        "#### Find accurcy using cross validation score ()"
      ]
    },
    {
      "cell_type": "code",
      "source": [
        "from sklearn.model_selection import cross_val_score\n",
        "cross_val_score(sgd_clf, x_train, y_train, cv=3,\n",
        "scoring=\"accuracy\")"
      ],
      "metadata": {
        "id": "xx20yvp8Tnm0",
        "colab": {
          "base_uri": "https://localhost:8080/"
        },
        "outputId": "49ccfad3-7419-420e-a27f-60726ad82e75"
      },
      "execution_count": 23,
      "outputs": [
        {
          "output_type": "execute_result",
          "data": {
            "text/plain": [
              "array([0.8704 , 0.87335, 0.8752 ])"
            ]
          },
          "metadata": {},
          "execution_count": 23
        }
      ]
    },
    {
      "cell_type": "code",
      "source": [
        "from sklearn.model_selection import cross_val_score\n",
        "cross_val_score(forest_clf, x_train, y_train, cv=3,\n",
        "scoring=\"accuracy\")"
      ],
      "metadata": {
        "id": "RCBoul89TGGG",
        "outputId": "f6ed02a9-db13-436e-8df9-91fef5636610",
        "colab": {
          "base_uri": "https://localhost:8080/"
        }
      },
      "execution_count": 25,
      "outputs": [
        {
          "output_type": "execute_result",
          "data": {
            "text/plain": [
              "array([0.9644 , 0.9661 , 0.96705])"
            ]
          },
          "metadata": {},
          "execution_count": 25
        }
      ]
    },
    {
      "cell_type": "code",
      "metadata": {
        "id": "r33tbcVurTB2",
        "outputId": "660ca060-1333-4795-96b6-0e520c35e920"
      },
      "source": [
        "# CODE HERE\n"
      ],
      "execution_count": null,
      "outputs": [
        {
          "data": {
            "text/plain": [
              "array([0.8796 , 0.87125, 0.85715])"
            ]
          },
          "execution_count": 25,
          "metadata": {},
          "output_type": "execute_result"
        }
      ]
    },
    {
      "cell_type": "markdown",
      "metadata": {
        "id": "-jzw9z22rTB2"
      },
      "source": [
        "#### to get better accurcy try scaling input"
      ]
    },
    {
      "cell_type": "code",
      "metadata": {
        "id": "Z87Bmth8rTB3"
      },
      "source": [
        "from sklearn.preprocessing import StandardScaler"
      ],
      "execution_count": 26,
      "outputs": []
    },
    {
      "cell_type": "code",
      "source": [
        "scaler = StandardScaler()\n",
        "X_train_scaled = scaler.fit_transform(x_train.astype(\"float64\"))\n",
        "cross_val_score(sgd_clf, X_train_scaled, y_train, cv=3, scoring=\"accuracy\")"
      ],
      "metadata": {
        "id": "DMF-AC0ZTWEM",
        "colab": {
          "base_uri": "https://localhost:8080/"
        },
        "outputId": "6992fb7d-e278-47e6-fe79-8b8038f4ca8d"
      },
      "execution_count": 27,
      "outputs": [
        {
          "output_type": "stream",
          "name": "stderr",
          "text": [
            "/usr/local/lib/python3.11/dist-packages/sklearn/linear_model/_stochastic_gradient.py:738: ConvergenceWarning: Maximum number of iteration reached before convergence. Consider increasing max_iter to improve the fit.\n",
            "  warnings.warn(\n"
          ]
        },
        {
          "output_type": "execute_result",
          "data": {
            "text/plain": [
              "array([0.9033 , 0.90135, 0.89635])"
            ]
          },
          "metadata": {},
          "execution_count": 27
        }
      ]
    },
    {
      "cell_type": "code",
      "metadata": {
        "id": "ahuwFw8GrTB3",
        "outputId": "6f05b082-b4fa-46f7-ff1b-0eab46aec161"
      },
      "source": [
        "# CODE HERE\n"
      ],
      "execution_count": null,
      "outputs": [
        {
          "name": "stderr",
          "output_type": "stream",
          "text": [
            "C:\\Users\\H4C-M\\anaconda3\\lib\\site-packages\\sklearn\\linear_model\\_stochastic_gradient.py:570: ConvergenceWarning: Maximum number of iteration reached before convergence. Consider increasing max_iter to improve the fit.\n",
            "  warnings.warn(\"Maximum number of iteration reached before \"\n"
          ]
        },
        {
          "data": {
            "text/plain": [
              "array([0.89895, 0.9019 , 0.9008 ])"
            ]
          },
          "execution_count": 28,
          "metadata": {},
          "output_type": "execute_result"
        }
      ]
    },
    {
      "cell_type": "markdown",
      "metadata": {
        "id": "hoevqgexrTB4"
      },
      "source": [
        "## Error Analysis"
      ]
    },
    {
      "cell_type": "markdown",
      "metadata": {
        "id": "oJRRCJzXrTB4"
      },
      "source": [
        "#### Take a look at the confusion matrix"
      ]
    },
    {
      "cell_type": "code",
      "metadata": {
        "id": "QjEb7wMMrTB4"
      },
      "source": [
        "from sklearn.model_selection import cross_val_predict\n",
        "from sklearn.metrics import confusion_matrix"
      ],
      "execution_count": 28,
      "outputs": []
    },
    {
      "cell_type": "code",
      "metadata": {
        "id": "dCNsUwlXrTB4",
        "outputId": "6f58406c-961b-48dc-f430-75beec0812c5"
      },
      "source": [
        "#import matplotlib.pyplot as plt\n",
        "# CODE HERE\n",
        "y_train_pred = cross_val_predict(sgd_clf, X_train_scaled, y_train, cv=3)\n",
        "conf_mx = confusion_matrix(y_train, y_train_pred, )\n",
        "conf_mx"
      ],
      "execution_count": null,
      "outputs": [
        {
          "name": "stderr",
          "output_type": "stream",
          "text": [
            "C:\\Users\\H4C-M\\anaconda3\\lib\\site-packages\\sklearn\\linear_model\\_stochastic_gradient.py:570: ConvergenceWarning: Maximum number of iteration reached before convergence. Consider increasing max_iter to improve the fit.\n",
            "  warnings.warn(\"Maximum number of iteration reached before \"\n"
          ]
        },
        {
          "data": {
            "text/plain": [
              "array([[5593,    0,   24,    5,    7,   41,   37,    5,  210,    1],\n",
              "       [   1, 6424,   48,   21,    2,   39,    4,    9,  185,    9],\n",
              "       [  22,   26, 5262,   93,   67,   23,   64,   35,  357,    9],\n",
              "       [  25,   18,  123, 5257,    2,  200,   28,   41,  369,   68],\n",
              "       [   7,   16,   50,   10, 5221,   10,   37,   22,  318,  151],\n",
              "       [  29,   18,   36,  158,   49, 4463,   80,   17,  512,   59],\n",
              "       [  28,   18,   50,    2,   39,   88, 5551,    9,  133,    0],\n",
              "       [  18,   11,   50,   27,   53,   14,    4, 5714,  178,  196],\n",
              "       [  19,   60,   47,   95,    3,  119,   33,    8, 5429,   38],\n",
              "       [  21,   23,   28,   59,  121,   30,    1,  177,  370, 5119]],\n",
              "      dtype=int64)"
            ]
          },
          "execution_count": 33,
          "metadata": {},
          "output_type": "execute_result"
        }
      ]
    },
    {
      "cell_type": "markdown",
      "metadata": {
        "id": "hBHF2iJWrTB5"
      },
      "source": [
        "#### using Matplotlib’s matshow() function look at an image representation of the confusion matrix"
      ]
    },
    {
      "cell_type": "code",
      "source": [
        "# plt.matshow(conf_mx, cmap=plt.cm.gray)\n",
        "# هذا السطر يعرض مصفوفة الالتباس (confusion matrix) كـ صورة (matrix heatmap).\n",
        "\n",
        "# التفاصيل:\n",
        "# conf_mx: هي مصفوفة الالتباس التي عادةً يتم الحصول عليها\n",
        "\n",
        "# plt.matshow(...): يعرض المصفوفة على شكل مستطيل حراري (heatmap).\n",
        "\n",
        "# cmap=plt.cm.gray: يحدد الألوان المستخدمة. في هذه الحالة، الرمادي:\n",
        "\n",
        "# الأبيض = 0 (أقل قيمة)\n",
        "\n",
        "# أسود داكن = قيمة عالية (مربعات بها أعداد أخطاء أو نجاحات كبيرة)\n",
        "\n",
        "# ا هي مصفوفة الالتباس (Confusion Matrix)؟\n",
        "# هي مصفوفة 10×10 (عند تصنيف الأرقام من 0 إلى 9) تمثل:\n",
        "\n",
        "# الصفوف = الفئات الحقيقية (الأصلية)\n",
        "\n",
        "# الأعمدة = الفئات المتوقعة (التي خمّنها النموذج)\n",
        "# القطر الرئيسي (الزاوية العلوية اليسرى إلى السفلية اليمنى): يمثل التصنيفات الصحيحة.\n",
        "\n",
        "# القيم خارج القطر: تمثل أخطاء التصنيف.\n",
        "\n",
        "#  إن كان المربع على القطر الرئيسي غامقًا (أسود):\n",
        "# هذا يعني أن النموذج صنف هذه الفئة بشكل جيد.\n",
        "\n",
        "# ❌ إن كان هناك مربعات خارج القطر داكنة:\n",
        "# هذا يدل على أن النموذج يخلط بين فئتين معينتين.\n",
        "\n",
        "# مثال: مربع في الصف 5 والعمود 3 داكن ⇒ النموذج صنف الرقم 5 على أنه 3 في عدة حالات.\n",
        "\n"
      ],
      "metadata": {
        "id": "we_CZVmE-VQE"
      },
      "execution_count": null,
      "outputs": []
    },
    {
      "cell_type": "code",
      "source": [
        "import matplotlib.pyplot as plt\n",
        "plt.matshow(conf_mx, cmap=plt.cm.gray)\n",
        "plt.show()"
      ],
      "metadata": {
        "colab": {
          "base_uri": "https://localhost:8080/",
          "height": 437
        },
        "id": "sYGHs_ZQHBW0",
        "outputId": "fdb32314-b77b-4a8a-cce0-8263d6c2dea9"
      },
      "execution_count": null,
      "outputs": [
        {
          "output_type": "display_data",
          "data": {
            "text/plain": [
              "<Figure size 480x480 with 1 Axes>"
            ],
            "image/png": "[encoded data removed]"
          },
          "metadata": {}
        }
      ]
    },
    {
      "cell_type": "code",
      "metadata": {
        "id": "_nMxOLjtrTB5",
        "outputId": "9c4a9ac8-860b-4755-fea9-38f7f03ce628"
      },
      "source": [
        "# CODE HERE\n"
      ],
      "execution_count": null,
      "outputs": [
        {
          "data": {
            "image/png": "[encoded data removed]",
            "text/plain": [
              "<Figure size 288x288 with 1 Axes>"
            ]
          },
          "metadata": {
            "needs_background": "light"
          },
          "output_type": "display_data"
        }
      ]
    },
    {
      "cell_type": "markdown",
      "metadata": {
        "id": "Xm6cFW72rTB6"
      },
      "source": [
        "#### Dividing each value in the confusion matrix by the number of images in the corresponding class"
      ]
    },
    {
      "cell_type": "code",
      "source": [
        "# row_sums = conf_mx.sum(axis=1, keepdims=True)\n",
        "# يحسب مجموع كل صف في conf_mx، أي عدد التكرارات لكل فئة حقيقية.\n",
        "\n",
        "# الشكل الناتج هو مصفوفة عمودية (n×1) مثل:\n",
        "# [[592],\n",
        "#  [674],\n",
        "#  [689],\n",
        "#  ...]\n",
        "\n",
        "# axis=1 ⟹ يعني \"اجمع عبر الأعمدة\".\n",
        "\n",
        "# keepdims=True ⟹ نحافظ على البُعد لتتم القسمة لاحقاً بشكل صحيح.\n",
        "\n",
        "# norm_conf_mx = conf_mx / row_sums\n",
        "# هنا نقوم بـ تطبيع كل صف.\n",
        "\n",
        "# أي: نحول الأرقام إلى نسب مئوية.\n",
        "\n",
        "# فكل عنصر في الصف سيعبر عن نسبة الأخطاء أو النجاحات بالنسبة لهذا الصف.\n",
        "\n",
        "# مثال:\n",
        "# لو الصف للفئة \"5\" هو [570, 2, 5, 0, 0, 593, 0, 0, 0, 0]\n",
        "# وكان المجموع 570 + 2 + 5 + ... = 600\n",
        "# فبعد التطبيع يصبح مثلاً:\n",
        "# [0.95, 0.003, 0.008, ...]\n",
        "\n",
        "# np.fill_diagonal(norm_conf_mx, 0)\n",
        "# تصفر القطر الرئيسي (التصنيفات الصحيحة).\n",
        "\n",
        "# الهدف: التركيز فقط على الأخطاء.\n",
        "\n",
        "# لأن القطر يمثل عدد المرات التي توقع فيها النموذج الفئة بشكل صحيح، وهذا ليس مهمًا الآن، نريد رؤية من يشبه من!\n",
        "\n",
        "# plt.matshow(norm_conf_mx, cmap=plt.cm.gray)\n",
        "# عرض الرسمة، حيث:\n",
        "\n",
        "# اللون الأفتح = أخطاء قليلة (قيم صغيرة)\n",
        "\n",
        "# اللون الداكن = أخطاء كثيرة (قيم مرتفعة)\n",
        "\n",
        "# لأن القيم تم تطبيعها، فستكون كلها بين 0 و 1.\n",
        "#  كيف تفهم الصورة الناتجة؟\n",
        "# كل صف = فئة حقيقية.\n",
        "\n",
        "# كل عمود = ما تنبأ به النموذج.\n",
        "\n",
        "# المربعات الداكنة (خارج القطر) = الفئات التي يخطئ النموذج فيها كثيرًا.\n",
        "\n",
        "# مثلاً:\n",
        "\n",
        "# إن كان هناك مربع داكن في الصف 5 والعمود 3:\n",
        "\n",
        "# هذا يعني أن النموذج غالبًا ما يخلط بين الرقم 5 والرقم 3.\n",
        "\n",
        "# هذه المعلومة مهمة لتحسين النموذج، مثلاً:\n",
        "\n",
        "# بإضافة صور تدريبية أكثر لهذين الرقمين.\n",
        "\n",
        "# أو تحسين المعالجة المسبقة للصور.\n",
        "\n",
        "# 🔚 خلاصة:\n",
        "# خطوة\tالهدف\n",
        "# sum(axis=1)\tحساب عدد الحالات الحقيقية لكل فئة\n",
        "# التطبيع\tتحويل الأعداد إلى نسب مئوية\n",
        "# تصفير القطر\tإزالة التصنيفات الصحيحة للتركيز على الأخطاء\n",
        "# matshow\tعرض مصفوفة الأخطاء بصريًا\n"
      ],
      "metadata": {
        "id": "JDEvA5KT_OzP"
      },
      "execution_count": null,
      "outputs": []
    },
    {
      "cell_type": "code",
      "metadata": {
        "id": "hNDkHceZrTB6"
      },
      "source": [
        "row_sums = conf_mx.sum(axis=1, keepdims=True)\n",
        "norm_conf_mx = conf_mx / row_sums"
      ],
      "execution_count": null,
      "outputs": []
    },
    {
      "cell_type": "markdown",
      "metadata": {
        "id": "7wdHyF8urTB6"
      },
      "source": [
        "#### fill the diagonal with zeros to keep only the errors"
      ]
    },
    {
      "cell_type": "code",
      "source": [
        "import numpy as np\n",
        "np.fill_diagonal(norm_conf_mx,0)\n",
        "plt.matshow(norm_conf_mx,cmap=plt.cm.gray)"
      ],
      "metadata": {
        "colab": {
          "base_uri": "https://localhost:8080/",
          "height": 454
        },
        "id": "5s75P469TVpj",
        "outputId": "329a3935-75fd-4bc7-9ee5-089107dfa45c"
      },
      "execution_count": null,
      "outputs": [
        {
          "output_type": "execute_result",
          "data": {
            "text/plain": [
              "<matplotlib.image.AxesImage at 0x7f2c674e6f50>"
            ]
          },
          "metadata": {},
          "execution_count": 31
        },
        {
          "output_type": "display_data",
          "data": {
            "text/plain": [
              "<Figure size 480x480 with 1 Axes>"
            ],
            "image/png": "[encoded data removed]"
          },
          "metadata": {}
        }
      ]
    },
    {
      "cell_type": "code",
      "metadata": {
        "scrolled": true,
        "id": "oSWl-lE7rTB7",
        "outputId": "389314a9-5ea3-4330-dd9d-961789f83de0"
      },
      "source": [
        "# CODE HERE\n"
      ],
      "execution_count": null,
      "outputs": [
        {
          "data": {
            "image/png": "[encoded data removed]",
            "text/plain": [
              "<Figure size 288x288 with 1 Axes>"
            ]
          },
          "metadata": {
            "needs_background": "light"
          },
          "output_type": "display_data"
        }
      ]
    },
    {
      "cell_type": "code",
      "source": [
        "# هذا الكود يعرّف دالة اسمها plot_digits، ووظيفتها هي عرض مجموعة من الصور (مثل صور الأرقام MNIST) بشكل مصفوفة منظمة — مثل جدول فيه عدة صور لكل رقم.\n",
        "\n",
        "# دعني أشرح كل جزء خطوة بخطوة، ثم أعطيك مثالًا لكيفية استخدامها:\n",
        "\n",
        "# 🧠 الفكرة العامة:\n",
        "# لديك مجموعة من الصور (28×28 بكسل) مخزنة كمصفوفات مسطحة (1×784).\n",
        "\n",
        "# هذه الدالة:\n",
        "\n",
        "# تعيد تشكيل الصور إلى شكلها الحقيقي.\n",
        "\n",
        "# ترتب الصور في صفوف وأعمدة.\n",
        "\n",
        "# تدمجها في صورة واحدة كبيرة.\n",
        "\n",
        "# تعرضها باستخدام matplotlib بدون حدود axes.\n",
        "\n",
        "# تعريف دالة تأخذ:\n",
        "\n",
        "# instances: قائمة أو مصفوفة من الصور (كل صورة بشكل [784])\n",
        "\n",
        "# images_per_row: كم صورة في كل صف (الافتراضي 10)\n",
        "\n",
        "# **options: أي خيارات إضافية تُمرر إلى plt.imshow() (مثل interpolation='nearest')\n",
        "\n",
        "# حجم الصورة 28×28 (كما في بيانات MNIST)\n",
        "\n",
        "# التأكد من أن عدد الصور في الصف لا يتجاوز عدد الصور الكلي\n",
        "# تحويل كل صورة من شكل [784] إلى [28×28]\n",
        "# حساب عدد الصفوف المطلوبة لعرض الصور كلها\n",
        "\n",
        "# row_images: قائمة لتجميع الصفوف\n",
        "\n",
        "# n_empty: عدد الخانات الفارغة لإكمال الصف الأخير إن لم يكن ممتلئًا\n",
        "# إضافة صورة \"فارغة\" (بيضاء أو سوداء حسب اللون) لملء الصف الأخير\n",
        "# لكل صف:\n",
        "\n",
        "# اجلب الصور الخاصة به\n",
        "\n",
        "# اجمعها أفقيًا (axis=1) في صورة واحدة للصف\n",
        "# جمع كل صفوف الصور عموديًا للحصول على صورة واحدة كبيرة\n",
        "# رض الصورة الكبيرة باستخدام imshow\n",
        "\n",
        "# اللون المستخدم: أبيض/أسود\n",
        "\n",
        "# إخفاء المحاور"
      ],
      "metadata": {
        "id": "iLZZkyd4_6kr"
      },
      "execution_count": null,
      "outputs": []
    },
    {
      "cell_type": "code",
      "metadata": {
        "id": "D0l_VaVgrTB7"
      },
      "source": [
        "def plot_digits(instances, images_per_row=10, **options):\n",
        "    size = 28\n",
        "    images_per_row = min(len(instances), images_per_row)\n",
        "    images = [instance.reshape(size,size) for instance in instances]\n",
        "    n_rows = (len(instances) - 1) // images_per_row + 1\n",
        "    row_images = []\n",
        "    n_empty = n_rows * images_per_row - len(instances)\n",
        "    images.append(np.zeros((size, size * n_empty)))\n",
        "    for row in range(n_rows):\n",
        "        rimages = images[row * images_per_row : (row + 1) * images_per_row]\n",
        "        row_images.append(np.concatenate(rimages, axis=1))\n",
        "    image = np.concatenate(row_images, axis=0)\n",
        "    plt.imshow(image, cmap = matplotlib.cm.binary, **options)\n",
        "    plt.axis(\"off\")"
      ],
      "execution_count": null,
      "outputs": []
    },
    {
      "cell_type": "code",
      "source": [
        "الهدف من الكود:\n",
        "يقوم بتحليل الخلط بين الرقمين 3 و5 في بيانات التدريب، وذلك من خلال عرض صور أخطاء النموذج وتوقعاته الصحيحة لهذين الرقمين.\n",
        "عرض شبكة مكونة من 4 مجموعات من الصور:\n",
        "\n",
        "✅ صور 3 التي تنبأ بها النموذج بشكل صحيح (3 ← 3)\n",
        "\n",
        "❌ صور 3 التي أخطأ فيها النموذج وقال إنها 5 (3 ← 5)\n",
        "\n",
        "❌ صور 5 التي أخطأ فيها النموذج وقال إنها 3 (5 ← 3)\n",
        "\n",
        "✅ صور 5 التي تنبأ بها النموذج بشكل صحيح (5 ← 5)\n",
        "\n",
        "نحدد الفئتين (الأرقام) اللتين نريد تحليلهما: الرقم 3 والرقم 5.\n",
        "\n",
        "cl_a هو الرقم 3، و cl_b هو الرقم 5 (كـ سلاسل نصية لأن y_train يحتوي على تصنيفات كـ strings غالباً).\n",
        "X_aa = x_train[(y_train == cl_a) & (y_train_pred == cl_a)]\n",
        "\n",
        "صور الرقم 3 التي صنفها النموذج بشكل صحيح على أنها 3 (✅ صح)\n",
        "X_ab = x_train[(y_train == cl_a) & (y_train_pred == cl_b)]\n",
        "\n",
        "صور الرقم 3 التي أخطأ النموذج وصنفها على أنها 5 (❌ خطأ)\n",
        "X_ba = x_train[(y_train == cl_b) & (y_train_pred == cl_a)]\n",
        "صور الرقم 5 التي أخطأ النموذج وصنفها على أنها 3 (❌ خطأ)\n",
        "\n",
        "X_bb = x_train[(y_train == cl_b) & (y_train_pred == cl_b)]\n",
        "صور الرقم 5 التي صنفها النموذج بشكل صحيح على أنها 5 (✅ صح)\n"
      ],
      "metadata": {
        "id": "OCMY8qZCAZim"
      },
      "execution_count": null,
      "outputs": []
    },
    {
      "cell_type": "code",
      "metadata": {
        "id": "2H_6XdKerTB8",
        "outputId": "d978ccfd-af19-41f7-a5de-805d79ad2eeb",
        "colab": {
          "base_uri": "https://localhost:8080/",
          "height": 653
        }
      },
      "source": [
        "cl_a, cl_b = '3', '5'\n",
        "X_aa = x_train[(y_train == cl_a) & (y_train_pred == cl_a)]\n",
        "X_ab = x_train[(y_train == cl_a) & (y_train_pred == cl_b)]\n",
        "X_ba = x_train[(y_train == cl_b) & (y_train_pred == cl_a)]\n",
        "X_bb = x_train[(y_train == cl_b) & (y_train_pred == cl_b)]\n",
        "plt.figure(figsize=(8,8))\n",
        "plt.subplot(221); plot_digits(X_aa[:25], images_per_row=5)\n",
        "plt.subplot(222); plot_digits(X_ab[:25], images_per_row=5)\n",
        "plt.subplot(223); plot_digits(X_ba[:25], images_per_row=5)\n",
        "plt.subplot(224); plot_digits(X_bb[:25], images_per_row=5)\n",
        "plt.show()\n"
      ],
      "execution_count": null,
      "outputs": [
        {
          "output_type": "display_data",
          "data": {
            "text/plain": [
              "<Figure size 800x800 with 4 Axes>"
            ],
            "image/png": "[encoded data removed]"
          },
          "metadata": {}
        }
      ]
    },
    {
      "cell_type": "markdown",
      "metadata": {
        "id": "dCLTtG50rTB9"
      },
      "source": [
        "## Multilabel Classification"
      ]
    },
    {
      "cell_type": "markdown",
      "metadata": {
        "id": "CRVGta9irTB9"
      },
      "source": [
        "#### creates a y_multilabel array containing two target labels for each digit image"
      ]
    },
    {
      "cell_type": "code",
      "metadata": {
        "id": "ImrC91BPrTB9",
        "outputId": "f3775ccf-225a-4c74-8335-3306865df3f2",
        "colab": {
          "base_uri": "https://localhost:8080/",
          "height": 75
        }
      },
      "source": [
        "from sklearn.neighbors import KNeighborsClassifier\n",
        "y_train_large = (y_train >= '7')\n",
        "y_train_odd = (y_train == '1')\n",
        "y_multilabel = np.c_[y_train_large, y_train_odd]\n",
        "knn_clf = KNeighborsClassifier()\n",
        "knn_clf.fit(x_train, y_multilabel)"
      ],
      "execution_count": null,
      "outputs": [
        {
          "output_type": "execute_result",
          "data": {
            "text/plain": [
              "KNeighborsClassifier()"
            ],
            "text/html": [
              "<style>#sk-container-id-2 {color: black;background-color: white;}#sk-container-id-2 pre{padding: 0;}#sk-container-id-2 div.sk-toggleable {background-color: white;}#sk-container-id-2 label.sk-toggleable__label {cursor: pointer;display: block;width: 100%;margin-bottom: 0;padding: 0.3em;box-sizing: border-box;text-align: center;}#sk-container-id-2 label.sk-toggleable__label-arrow:before {content: \"▸\";float: left;margin-right: 0.25em;color: #696969;}#sk-container-id-2 label.sk-toggleable__label-arrow:hover:before {color: black;}#sk-container-id-2 div.sk-estimator:hover label.sk-toggleable__label-arrow:before {color: black;}#sk-container-id-2 div.sk-toggleable__content {max-height: 0;max-width: 0;overflow: hidden;text-align: left;background-color: #f0f8ff;}#sk-container-id-2 div.sk-toggleable__content pre {margin: 0.2em;color: black;border-radius: 0.25em;background-color: #f0f8ff;}#sk-container-id-2 input.sk-toggleable__control:checked~div.sk-toggleable__content {max-height: 200px;max-width: 100%;overflow: auto;}#sk-container-id-2 input.sk-toggleable__control:checked~label.sk-toggleable__label-arrow:before {content: \"▾\";}#sk-container-id-2 div.sk-estimator input.sk-toggleable__control:checked~label.sk-toggleable__label {background-color: #d4ebff;}#sk-container-id-2 div.sk-label input.sk-toggleable__control:checked~label.sk-toggleable__label {background-color: #d4ebff;}#sk-container-id-2 input.sk-hidden--visually {border: 0;clip: rect(1px 1px 1px 1px);clip: rect(1px, 1px, 1px, 1px);height: 1px;margin: -1px;overflow: hidden;padding: 0;position: absolute;width: 1px;}#sk-container-id-2 div.sk-estimator {font-family: monospace;background-color: #f0f8ff;border: 1px dotted black;border-radius: 0.25em;box-sizing: border-box;margin-bottom: 0.5em;}#sk-container-id-2 div.sk-estimator:hover {background-color: #d4ebff;}#sk-container-id-2 div.sk-parallel-item::after {content: \"\";width: 100%;border-bottom: 1px solid gray;flex-grow: 1;}#sk-container-id-2 div.sk-label:hover label.sk-toggleable__label {background-color: #d4ebff;}#sk-container-id-2 div.sk-serial::before {content: \"\";position: absolute;border-left: 1px solid gray;box-sizing: border-box;top: 0;bottom: 0;left: 50%;z-index: 0;}#sk-container-id-2 div.sk-serial {display: flex;flex-direction: column;align-items: center;background-color: white;padding-right: 0.2em;padding-left: 0.2em;position: relative;}#sk-container-id-2 div.sk-item {position: relative;z-index: 1;}#sk-container-id-2 div.sk-parallel {display: flex;align-items: stretch;justify-content: center;background-color: white;position: relative;}#sk-container-id-2 div.sk-item::before, #sk-container-id-2 div.sk-parallel-item::before {content: \"\";position: absolute;border-left: 1px solid gray;box-sizing: border-box;top: 0;bottom: 0;left: 50%;z-index: -1;}#sk-container-id-2 div.sk-parallel-item {display: flex;flex-direction: column;z-index: 1;position: relative;background-color: white;}#sk-container-id-2 div.sk-parallel-item:first-child::after {align-self: flex-end;width: 50%;}#sk-container-id-2 div.sk-parallel-item:last-child::after {align-self: flex-start;width: 50%;}#sk-container-id-2 div.sk-parallel-item:only-child::after {width: 0;}#sk-container-id-2 div.sk-dashed-wrapped {border: 1px dashed gray;margin: 0 0.4em 0.5em 0.4em;box-sizing: border-box;padding-bottom: 0.4em;background-color: white;}#sk-container-id-2 div.sk-label label {font-family: monospace;font-weight: bold;display: inline-block;line-height: 1.2em;}#sk-container-id-2 div.sk-label-container {text-align: center;}#sk-container-id-2 div.sk-container {/* jupyter's `normalize.less` sets `[hidden] { display: none; }` but bootstrap.min.css set `[hidden] { display: none !important; }` so we also need the `!important` here to be able to override the default hidden behavior on the sphinx rendered scikit-learn.org. See: https://github.com/scikit-learn/scikit-learn/issues/21755 */display: inline-block !important;position: relative;}#sk-container-id-2 div.sk-text-repr-fallback {display: none;}</style><div id=\"sk-container-id-2\" class=\"sk-top-container\"><div class=\"sk-text-repr-fallback\"><pre>KNeighborsClassifier()</pre><b>In a Jupyter environment, please rerun this cell to show the HTML representation or trust the notebook. <br />On GitHub, the HTML representation is unable to render, please try loading this page with nbviewer.org.</b></div><div class=\"sk-container\" hidden><div class=\"sk-item\"><div class=\"sk-estimator sk-toggleable\"><input class=\"sk-toggleable__control sk-hidden--visually\" id=\"sk-estimator-id-4\" type=\"checkbox\" checked><label for=\"sk-estimator-id-4\" class=\"sk-toggleable__label sk-toggleable__label-arrow\">KNeighborsClassifier</label><div class=\"sk-toggleable__content\"><pre>KNeighborsClassifier()</pre></div></div></div></div></div>"
            ]
          },
          "metadata": {},
          "execution_count": 34
        }
      ]
    },
    {
      "cell_type": "markdown",
      "metadata": {
        "id": "nJcwu7UfrTB-"
      },
      "source": [
        "#### find the prediction"
      ]
    },
    {
      "cell_type": "code",
      "source": [
        "knn_clf.predict([some_digit])"
      ],
      "metadata": {
        "id": "7pMbeDqMp8rs",
        "outputId": "3156249b-0cab-4d8f-d5f7-e484eaf90eaf",
        "colab": {
          "base_uri": "https://localhost:8080/"
        }
      },
      "execution_count": null,
      "outputs": [
        {
          "output_type": "execute_result",
          "data": {
            "text/plain": [
              "array([[ True, False]])"
            ]
          },
          "metadata": {},
          "execution_count": 35
        }
      ]
    },
    {
      "cell_type": "code",
      "metadata": {
        "id": "0n2fcDbArTB-",
        "outputId": "111d0b30-21f6-469d-ef2e-2c61f7af0525"
      },
      "source": [
        "# CODE HERE\n"
      ],
      "execution_count": null,
      "outputs": [
        {
          "data": {
            "text/plain": [
              "array([[ True, False]])"
            ]
          },
          "execution_count": 52,
          "metadata": {},
          "output_type": "execute_result"
        }
      ]
    },
    {
      "cell_type": "markdown",
      "metadata": {
        "id": "ymiEXPfprTB-"
      },
      "source": [
        "#### computes the average F1 score across all labels\n",
        "***Warning: the following cell may take a very long time (possibly hours depending on your hardware)***"
      ]
    },
    {
      "cell_type": "code",
      "metadata": {
        "id": "tOrUjiMgrTB-"
      },
      "source": [
        "#y_train_knn_pred = cross_val_predict(knn_clf, X_train, y_train, cv=3)\n",
        "#f1_score(y_train, y_train_knn_pred, average=\"macro\")"
      ],
      "execution_count": null,
      "outputs": []
    },
    {
      "cell_type": "markdown",
      "metadata": {
        "id": "cWLtvNU5rTB_"
      },
      "source": [
        "## Multioutput Classification\n"
      ]
    },
    {
      "cell_type": "code",
      "source": [
        "x_test = x_test.reshape(10000,784)"
      ],
      "metadata": {
        "id": "PBlHXkpyvnXH"
      },
      "execution_count": null,
      "outputs": []
    },
    {
      "cell_type": "code",
      "source": [
        "# هنا أنت تصنع مصفوفة ضوضاء عشوائية من أعداد صحيحة بين 0 و 99.\n",
        "\n",
        "# حجم الضوضاء هو نفس حجم بيانات التدريب: (عدد العينات، 784) لأن كل صورة مفردة تكون طولها 784 (28×28).\n",
        "\n",
        "# ثم تضيف هذه الضوضاء إلى بيانات التدريب الأصلية x_train لتحصل على نسخة معدلة X_train_mod.\n",
        "\n",
        "# هذه التقنية تستخدم عادة لتحسين قدرة النموذج على التعميم عبر جعل بيانات التدريب \"أكثر تحديًا\" (Data augmentation).\n",
        "\n",
        "# y_train_mod = x_train\n",
        "# y_test_mod = x_test"
      ],
      "metadata": {
        "id": "lGC3S758BcEZ"
      },
      "execution_count": null,
      "outputs": []
    },
    {
      "cell_type": "code",
      "metadata": {
        "id": "2FS4erJ1rTB_"
      },
      "source": [
        "noise = np.random.randint(0, 100, (len(x_train), 784))\n",
        "X_train_mod = x_train + noise\n",
        "noise = np.random.randint(0, 100, (len(x_test), 784))\n",
        "X_test_mod = x_test + noise\n",
        "y_train_mod = x_train\n",
        "y_test_mod = x_test"
      ],
      "execution_count": null,
      "outputs": []
    },
    {
      "cell_type": "markdown",
      "metadata": {
        "id": "7kqvQk1qrTB_"
      },
      "source": [
        "#### Let’s take a peek at an image from the test set"
      ]
    },
    {
      "cell_type": "code",
      "source": [
        "knn_clf.fit(X_train_mod, y_train_mod)\n",
        "clean_digit = knn_clf.predict([X_test_mod[0]])"
      ],
      "metadata": {
        "id": "-H7NoAhXqGTg"
      },
      "execution_count": null,
      "outputs": []
    },
    {
      "cell_type": "code",
      "source": [
        "x_test=x_test.reshape(10000,28,28)"
      ],
      "metadata": {
        "id": "h5iuBWN0vuFz"
      },
      "execution_count": null,
      "outputs": []
    },
    {
      "cell_type": "code",
      "source": [
        "plt.subplot(221);plot_digits([X_test_mod[0]])\n",
        "plt.subplot(222);plot_digits([x_test[0]])"
      ],
      "metadata": {
        "id": "LGDy8TRavuaB",
        "outputId": "dc0af6ef-8acc-48ff-a96c-d7e1f8d506f9",
        "colab": {
          "base_uri": "https://localhost:8080/",
          "height": 205
        }
      },
      "execution_count": null,
      "outputs": [
        {
          "output_type": "display_data",
          "data": {
            "text/plain": [
              "<Figure size 640x480 with 2 Axes>"
            ],
            "image/png": "[encoded data removed]"
          },
          "metadata": {}
        }
      ]
    },
    {
      "cell_type": "code",
      "source": [
        "plot_digits(clean_digit)"
      ],
      "metadata": {
        "id": "lTg7PNoLvzw1",
        "outputId": "81e8bd03-6e1d-48da-bd4f-1518fe1350a0",
        "colab": {
          "base_uri": "https://localhost:8080/",
          "height": 406
        }
      },
      "execution_count": null,
      "outputs": [
        {
          "output_type": "display_data",
          "data": {
            "text/plain": [
              "<Figure size 640x480 with 1 Axes>"
            ],
            "image/png": "[encoded data removed]"
          },
          "metadata": {}
        }
      ]
    },
    {
      "cell_type": "code",
      "metadata": {
        "id": "jzaG_GAArTCA",
        "outputId": "6b7db187-4946-40e7-ae62-3c965111cfff"
      },
      "source": [
        "# CODE HERE\n"
      ],
      "execution_count": null,
      "outputs": [
        {
          "data": {
            "image/png": "[encoded data removed]",
            "text/plain": [
              "<Figure size 432x288 with 1 Axes>"
            ]
          },
          "metadata": {
            "needs_background": "light"
          },
          "output_type": "display_data"
        }
      ]
    },
    {
      "cell_type": "markdown",
      "metadata": {
        "id": "IsM8nCFCrTCA"
      },
      "source": [
        "# Congrats you've finished your first classification Project🥳 !\n",
        "# #shAI_Club"
      ]
    }
  ]
}