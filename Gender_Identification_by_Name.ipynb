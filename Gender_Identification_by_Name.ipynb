{
  "nbformat": 4,
  "nbformat_minor": 0,
  "metadata": {
    "colab": {
      "provenance": [],
      "gpuType": "T4"
    },
    "kernelspec": {
      "name": "python3",
      "display_name": "Python 3"
    },
    "language_info": {
      "name": "python"
    },
    "accelerator": "GPU"
  },
  "cells": [
    {
      "cell_type": "code",
      "execution_count": 1,
      "metadata": {
        "colab": {
          "base_uri": "https://localhost:8080/"
        },
        "id": "xKzqil1VRlLk",
        "outputId": "9e0397ee-3e98-49af-b05c-b3a365ed9937"
      },
      "outputs": [
        {
          "output_type": "stream",
          "name": "stdout",
          "text": [
            "Accuracy: 0.78\n",
            "male\n",
            "female\n"
          ]
        },
        {
          "output_type": "stream",
          "name": "stderr",
          "text": [
            "[nltk_data] Downloading package names to /root/nltk_data...\n",
            "[nltk_data]   Unzipping corpora/names.zip.\n"
          ]
        }
      ],
      "source": [
        "import nltk\n",
        "from nltk.corpus import names\n",
        "import random\n",
        "\n",
        "# تحميل البيانات\n",
        "nltk.download('names')\n",
        "\n",
        "# تحضير البيانات\n",
        "male_names = [(name, 'male') for name in names.words('male.txt')]\n",
        "female_names = [(name, 'female') for name in names.words('female.txt')]\n",
        "all_names = male_names + female_names\n",
        "random.shuffle(all_names)\n",
        "\n",
        "# دالة لاستخراج الخصائص من الاسم\n",
        "def gender_features(name):\n",
        "    return {\n",
        "        'last_letter': name[-1].lower(),\n",
        "        'first_letter': name[0].lower(),\n",
        "        'length': len(name)\n",
        "    }\n",
        "\n",
        "# تحويل البيانات إلى خصائص\n",
        "featuresets = [(gender_features(name), gender) for (name, gender) in all_names]\n",
        "\n",
        "# تقسيم البيانات إلى تدريب واختبار\n",
        "train_set = featuresets[:5000]\n",
        "test_set = featuresets[5000:]\n",
        "\n",
        "# تدريب المصنف\n",
        "classifier = nltk.NaiveBayesClassifier.train(train_set)\n",
        "\n",
        "# تقييم النموذج\n",
        "accuracy = nltk.classify.accuracy(classifier, test_set)\n",
        "print(f\"Accuracy: {accuracy:.2f}\")\n",
        "\n",
        "# تجربة النموذج\n",
        "def predict_gender(name):\n",
        "    features = gender_features(name)\n",
        "    return classifier.classify(features)\n",
        "\n",
        "# تجربة الأسماء\n",
        "print(predict_gender(\"Ahmad\"))\n",
        "print(predict_gender(\"Lina\"))\n"
      ]
    },
    {
      "cell_type": "code",
      "source": [],
      "metadata": {
        "id": "HNAHgafQR8ji"
      },
      "execution_count": null,
      "outputs": []
    }
  ]
}