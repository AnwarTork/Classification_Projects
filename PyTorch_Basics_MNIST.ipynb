{
  "nbformat": 4,
  "nbformat_minor": 0,
  "metadata": {
    "colab": {
      "provenance": [],
      "gpuType": "T4"
    },
    "kernelspec": {
      "name": "python3",
      "display_name": "Python 3"
    },
    "language_info": {
      "name": "python"
    },
    "accelerator": "GPU"
  },
  "cells": [
    {
      "cell_type": "code",
      "source": [
        "import torch\n",
        "import torch.nn as nn\n",
        "import torch.optim as optim\n",
        "from torchvision import datasets, transforms\n",
        "from torch.utils.data import DataLoader"
      ],
      "metadata": {
        "id": "Ix36re3_bs7u"
      },
      "execution_count": 1,
      "outputs": []
    },
    {
      "cell_type": "code",
      "source": [
        "transform = transforms.Compose([\n",
        "    transforms.ToTensor(), # تحويل الصور إلى Tensor\n",
        "    transforms.Normalize((0.1307,),(0.3081,))   # تطبيع البيانات\n",
        "    ])"
      ],
      "metadata": {
        "id": "CCYyhd5XYvnd"
      },
      "execution_count": 2,
      "outputs": []
    },
    {
      "cell_type": "code",
      "source": [
        "train_dataset = datasets.MNIST(root='./data',train=True,download=True,transform=transform)\n",
        "test_dataset = datasets.MNIST(root='./data',train=False,download=True,transform=transform)"
      ],
      "metadata": {
        "id": "-J29lMcyZNBh"
      },
      "execution_count": 5,
      "outputs": []
    },
    {
      "cell_type": "code",
      "source": [
        "train_loader = DataLoader(train_dataset,batch_size=64,shuffle=True)\n",
        "test_loader = DataLoader(test_dataset,batch_size=1000,shuffle=False)"
      ],
      "metadata": {
        "id": "hRTPXl1iZrXX"
      },
      "execution_count": 6,
      "outputs": []
    },
    {
      "cell_type": "code",
      "source": [
        "class SimpleNN(nn.Module):\n",
        "  def __init__(self):\n",
        "    super(SimpleNN,self).__init__()\n",
        "    self.flatten = nn.Flatten()\n",
        "    self.fc1 = nn.Linear(28*28,128) # طبقة مخفية مع 128 وحدة\n",
        "    self.relu = nn.ReLU()\n",
        "    self.fc2 = nn.Linear(128,10) # طبقة الإخراج (10 أرقام)\n",
        "  def forward(self,x):\n",
        "    x = self.flatten(x)\n",
        "    x = self.fc1(x)\n",
        "    x = self.relu(x)\n",
        "    x = self.fc2(x)\n",
        "    return x\n",
        "\n",
        "model = SimpleNN()"
      ],
      "metadata": {
        "id": "FOgODQPpaFFY"
      },
      "execution_count": 7,
      "outputs": []
    },
    {
      "cell_type": "code",
      "source": [
        "# 3. تحديد دالة الخسارة و المحسن (optimizer)\n",
        "criterion = nn.CrossEntropyLoss()\n",
        "optimizer = optim.Adam(model.parameters(),lr=0.001)"
      ],
      "metadata": {
        "id": "fghYJ7GDbZjT"
      },
      "execution_count": 8,
      "outputs": []
    },
    {
      "cell_type": "code",
      "source": [
        "def train(model,device,train_loader,optimizer,criterion,epoch):\n",
        "  model.train()\n",
        "  for batch_idx,(data,target) in enumerate(train_loader):\n",
        "    data,target = data.to(device),target.to(device)\n",
        "    optimizer.zero_grad()\n",
        "    output = model(data)\n",
        "    loss = criterion(output,target)\n",
        "    loss.backward()\n",
        "    optimizer.step()\n",
        "    if batch_idx % 100 == 0 :\n",
        "      print(f\"Epoch {epoch} [{batch_idx * len(data)}/{len(train_loader.dataset)}]  Loss: {loss.item():.4f}\")"
      ],
      "metadata": {
        "id": "TElOH1y2br2B"
      },
      "execution_count": 9,
      "outputs": []
    },
    {
      "cell_type": "code",
      "source": [
        "def test(model,device,test_loader,criterion):\n",
        "  model.eval()\n",
        "  test_loss = 0\n",
        "  correct = 0\n",
        "  with torch.no_grad():\n",
        "    for data,target in test_loader:\n",
        "      data,target = data.to(device),target.to(device)\n",
        "      output = model(data)\n",
        "      test_loss += criterion(output,target).item() * data.size(0)\n",
        "      pred = output.argmax(dim=1)\n",
        "      correct += pred.eq(target).sum().item()\n",
        "  test_loss /= len(test_loader.dataset)\n",
        "  accuracy = 100. * correct / len(test_loader.dataset)\n",
        "  print(f\"Test set: Average loss: {test_loss:.4f}, Accuracy: {correct}/{len(test_loader.dataset)} ({accuracy:.2f}%)\")"
      ],
      "metadata": {
        "id": "ZZSZ0uaUcr0Z"
      },
      "execution_count": 10,
      "outputs": []
    },
    {
      "cell_type": "code",
      "source": [
        "device = torch.device(\"cuda\" if torch.cuda.is_available() else \"cpu\")\n",
        "model.to(device)"
      ],
      "metadata": {
        "id": "bpiBMQLhkDd0",
        "outputId": "074396a9-8ea7-490f-ce59-6248c4f1eeb7",
        "colab": {
          "base_uri": "https://localhost:8080/"
        }
      },
      "execution_count": 11,
      "outputs": [
        {
          "output_type": "execute_result",
          "data": {
            "text/plain": [
              "SimpleNN(\n",
              "  (flatten): Flatten(start_dim=1, end_dim=-1)\n",
              "  (fc1): Linear(in_features=784, out_features=128, bias=True)\n",
              "  (relu): ReLU()\n",
              "  (fc2): Linear(in_features=128, out_features=10, bias=True)\n",
              ")"
            ]
          },
          "metadata": {},
          "execution_count": 11
        }
      ]
    },
    {
      "cell_type": "code",
      "source": [
        "# 7. تنفيذ التدريب والتقييم\n",
        "for epoch in range(1, 6):\n",
        "    train(model, device, train_loader, optimizer, criterion, epoch)\n",
        "    test(model, device, test_loader, criterion)"
      ],
      "metadata": {
        "id": "cqZIXODNkPoI",
        "outputId": "94f76c49-dd3e-4b88-8bee-bec14ad97135",
        "colab": {
          "base_uri": "https://localhost:8080/"
        }
      },
      "execution_count": 12,
      "outputs": [
        {
          "output_type": "stream",
          "name": "stdout",
          "text": [
            "Epoch 1 [0/60000]  Loss: 2.3291\n",
            "Epoch 1 [6400/60000]  Loss: 0.3328\n",
            "Epoch 1 [12800/60000]  Loss: 0.2671\n",
            "Epoch 1 [19200/60000]  Loss: 0.1889\n",
            "Epoch 1 [25600/60000]  Loss: 0.3004\n",
            "Epoch 1 [32000/60000]  Loss: 0.1624\n",
            "Epoch 1 [38400/60000]  Loss: 0.1384\n",
            "Epoch 1 [44800/60000]  Loss: 0.1365\n",
            "Epoch 1 [51200/60000]  Loss: 0.1384\n",
            "Epoch 1 [57600/60000]  Loss: 0.1079\n",
            "Test set: Average loss: 0.1375, Accuracy: 9592/10000 (95.92%)\n",
            "Epoch 2 [0/60000]  Loss: 0.0990\n",
            "Epoch 2 [6400/60000]  Loss: 0.1251\n",
            "Epoch 2 [12800/60000]  Loss: 0.0424\n",
            "Epoch 2 [19200/60000]  Loss: 0.1576\n",
            "Epoch 2 [25600/60000]  Loss: 0.1558\n",
            "Epoch 2 [32000/60000]  Loss: 0.1086\n",
            "Epoch 2 [38400/60000]  Loss: 0.0342\n",
            "Epoch 2 [44800/60000]  Loss: 0.1755\n",
            "Epoch 2 [51200/60000]  Loss: 0.0451\n",
            "Epoch 2 [57600/60000]  Loss: 0.0778\n",
            "Test set: Average loss: 0.0987, Accuracy: 9716/10000 (97.16%)\n",
            "Epoch 3 [0/60000]  Loss: 0.0505\n",
            "Epoch 3 [6400/60000]  Loss: 0.0864\n",
            "Epoch 3 [12800/60000]  Loss: 0.0998\n",
            "Epoch 3 [19200/60000]  Loss: 0.0704\n",
            "Epoch 3 [25600/60000]  Loss: 0.0596\n",
            "Epoch 3 [32000/60000]  Loss: 0.1098\n",
            "Epoch 3 [38400/60000]  Loss: 0.0655\n",
            "Epoch 3 [44800/60000]  Loss: 0.1086\n",
            "Epoch 3 [51200/60000]  Loss: 0.1458\n",
            "Epoch 3 [57600/60000]  Loss: 0.0958\n",
            "Test set: Average loss: 0.0984, Accuracy: 9711/10000 (97.11%)\n",
            "Epoch 4 [0/60000]  Loss: 0.0736\n",
            "Epoch 4 [6400/60000]  Loss: 0.0207\n",
            "Epoch 4 [12800/60000]  Loss: 0.0074\n",
            "Epoch 4 [19200/60000]  Loss: 0.0086\n",
            "Epoch 4 [25600/60000]  Loss: 0.0961\n",
            "Epoch 4 [32000/60000]  Loss: 0.0939\n",
            "Epoch 4 [38400/60000]  Loss: 0.0346\n",
            "Epoch 4 [44800/60000]  Loss: 0.1000\n",
            "Epoch 4 [51200/60000]  Loss: 0.1607\n",
            "Epoch 4 [57600/60000]  Loss: 0.0231\n",
            "Test set: Average loss: 0.0810, Accuracy: 9774/10000 (97.74%)\n",
            "Epoch 5 [0/60000]  Loss: 0.0096\n",
            "Epoch 5 [6400/60000]  Loss: 0.0114\n",
            "Epoch 5 [12800/60000]  Loss: 0.0413\n",
            "Epoch 5 [19200/60000]  Loss: 0.0352\n",
            "Epoch 5 [25600/60000]  Loss: 0.0041\n",
            "Epoch 5 [32000/60000]  Loss: 0.0142\n",
            "Epoch 5 [38400/60000]  Loss: 0.0297\n",
            "Epoch 5 [44800/60000]  Loss: 0.0242\n",
            "Epoch 5 [51200/60000]  Loss: 0.0109\n",
            "Epoch 5 [57600/60000]  Loss: 0.1173\n",
            "Test set: Average loss: 0.0875, Accuracy: 9747/10000 (97.47%)\n"
          ]
        }
      ]
    },
    {
      "cell_type": "code",
      "source": [],
      "metadata": {
        "id": "TOQUKJ0dkini"
      },
      "execution_count": null,
      "outputs": []
    }
  ]
}