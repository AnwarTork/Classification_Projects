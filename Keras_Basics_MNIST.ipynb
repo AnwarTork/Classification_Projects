{
  "nbformat": 4,
  "nbformat_minor": 0,
  "metadata": {
    "colab": {
      "provenance": []
    },
    "kernelspec": {
      "name": "python3",
      "display_name": "Python 3"
    },
    "language_info": {
      "name": "python"
    }
  },
  "cells": [
    {
      "cell_type": "code",
      "execution_count": 1,
      "metadata": {
        "colab": {
          "base_uri": "https://localhost:8080/"
        },
        "id": "0RgYr9kSnPtQ",
        "outputId": "31889933-e4ba-4ea0-ae01-fae121c6e305"
      },
      "outputs": [
        {
          "output_type": "stream",
          "name": "stdout",
          "text": [
            "Downloading data from https://storage.googleapis.com/tensorflow/tf-keras-datasets/mnist.npz\n",
            "\u001b[1m11490434/11490434\u001b[0m \u001b[32m━━━━━━━━━━━━━━━━━━━━\u001b[0m\u001b[37m\u001b[0m \u001b[1m0s\u001b[0m 0us/step\n"
          ]
        },
        {
          "output_type": "stream",
          "name": "stderr",
          "text": [
            "/usr/local/lib/python3.11/dist-packages/keras/src/layers/reshaping/flatten.py:37: UserWarning: Do not pass an `input_shape`/`input_dim` argument to a layer. When using Sequential models, prefer using an `Input(shape)` object as the first layer in the model instead.\n",
            "  super().__init__(**kwargs)\n"
          ]
        },
        {
          "output_type": "stream",
          "name": "stdout",
          "text": [
            "Epoch 1/5\n",
            "\u001b[1m1875/1875\u001b[0m \u001b[32m━━━━━━━━━━━━━━━━━━━━\u001b[0m\u001b[37m\u001b[0m \u001b[1m8s\u001b[0m 4ms/step - accuracy: 0.8544 - loss: 0.4915\n",
            "Epoch 2/5\n",
            "\u001b[1m1875/1875\u001b[0m \u001b[32m━━━━━━━━━━━━━━━━━━━━\u001b[0m\u001b[37m\u001b[0m \u001b[1m5s\u001b[0m 3ms/step - accuracy: 0.9556 - loss: 0.1518\n",
            "Epoch 3/5\n",
            "\u001b[1m1875/1875\u001b[0m \u001b[32m━━━━━━━━━━━━━━━━━━━━\u001b[0m\u001b[37m\u001b[0m \u001b[1m7s\u001b[0m 4ms/step - accuracy: 0.9669 - loss: 0.1095\n",
            "Epoch 4/5\n",
            "\u001b[1m1875/1875\u001b[0m \u001b[32m━━━━━━━━━━━━━━━━━━━━\u001b[0m\u001b[37m\u001b[0m \u001b[1m6s\u001b[0m 3ms/step - accuracy: 0.9730 - loss: 0.0867\n",
            "Epoch 5/5\n",
            "\u001b[1m1875/1875\u001b[0m \u001b[32m━━━━━━━━━━━━━━━━━━━━\u001b[0m\u001b[37m\u001b[0m \u001b[1m10s\u001b[0m 3ms/step - accuracy: 0.9772 - loss: 0.0726\n",
            "313/313 - 1s - 2ms/step - accuracy: 0.9772 - loss: 0.0758\n",
            "دقة النموذج على بيانات الاختبار: 0.9772\n"
          ]
        }
      ],
      "source": [
        "import tensorflow as tf\n",
        "from tensorflow.keras import layers, models\n",
        "\n",
        "# 1. تحميل بيانات MNIST (صور أرقام 28x28 بالأبيض والأسود)\n",
        "(x_train, y_train), (x_test, y_test) = tf.keras.datasets.mnist.load_data()\n",
        "\n",
        "# 2. تهيئة البيانات: تحويل الصور من أعداد صحيحة إلى أعداد عشرية بين 0 و 1\n",
        "x_train = x_train.astype('float32') / 255.0\n",
        "x_test = x_test.astype('float32') / 255.0\n",
        "\n",
        "# 3. بناء النموذج:\n",
        "model = models.Sequential([\n",
        "    layers.Flatten(input_shape=(28, 28)),  # تحويل الصور 2D إلى 1D (28*28=784)\n",
        "    layers.Dense(128, activation='relu'), # طبقة كاملة الاتصال مع 128 وحدة و تفعيل ReLU\n",
        "    layers.Dropout(0.2),                   # طبقة تسقط 20% من الوحدات عشوائياً أثناء التدريب لتجنب overfitting\n",
        "    layers.Dense(10, activation='softmax') # طبقة الإخراج مع 10 وحدات (تمثل الأرقام من 0 إلى 9) وتفعيل softmax للتصنيف متعدد الفئات\n",
        "])\n",
        "\n",
        "# 4. تجميع النموذج (تحديد دالة الخسارة، المحسن، والمعايير):\n",
        "model.compile(optimizer='adam',\n",
        "              loss='sparse_categorical_crossentropy',\n",
        "              metrics=['accuracy'])\n",
        "\n",
        "# 5. تدريب النموذج على بيانات التدريب:\n",
        "model.fit(x_train, y_train, epochs=5)\n",
        "\n",
        "# 6. تقييم النموذج على بيانات الاختبار:\n",
        "test_loss, test_acc = model.evaluate(x_test, y_test, verbose=2)\n",
        "print(f'دقة النموذج على بيانات الاختبار: {test_acc:.4f}')"
      ]
    },
    {
      "cell_type": "code",
      "source": [],
      "metadata": {
        "id": "Yf5Q5NCaoIMJ"
      },
      "execution_count": null,
      "outputs": []
    }
  ]
}